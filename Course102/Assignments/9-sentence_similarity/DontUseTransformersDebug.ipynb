{
 "cells": [
  {
   "cell_type": "code",
   "execution_count": null,
   "id": "a8dbdbf7-e5ab-4a7f-b72f-2f8e6f518836",
   "metadata": {},
   "outputs": [],
   "source": [
    "from transformers import AutoTokenizer,TFAutoModel,AutoConfig,TFAutoModelForSequenceClassification\n",
    "\n",
    "tokenizer = AutoTokenizer.from_pretrained('bert-base-uncased')\n",
    "model = TFAutoModel.from_pretrained('bert-base-uncased')\n",
    "\n",
    "# sentence='It can be any sentence here'\n",
    "# encoded_input = tokenizer(text, return_tensors='tf')\n",
    "# output1 = model(encoded_input)[0]\n",
    "# output2 = model.predict(encoded_input.values())[0]\n",
    "# print(output1[0,0,:10])\n",
    "# print(output2[0,0,:10])"
   ]
  },
  {
   "cell_type": "code",
   "execution_count": 7,
   "id": "e463dc63-c83e-4e3c-b161-58b30a18dad3",
   "metadata": {},
   "outputs": [
    {
     "name": "stdout",
     "output_type": "stream",
     "text": [
      "tf.Tensor(\n",
      "[ 0.11488773  0.15150222 -0.02027255 -0.10096979 -0.14749856 -0.19671813\n",
      "  0.12003344  0.46950108 -0.03427629 -0.18273947], shape=(10,), dtype=float32)\n",
      "tf.Tensor(\n",
      "[ 0.11488773  0.15150222 -0.02027255 -0.10096979 -0.14749856 -0.19671813\n",
      "  0.12003344  0.46950108 -0.03427629 -0.18273947], shape=(10,), dtype=float32)\n",
      "tf.Tensor(\n",
      "[ 0.14543784  0.15739855 -0.04115674 -0.03782258 -0.10395451 -0.11746719\n",
      "  0.07854856  0.41867554 -0.03333259 -0.12660967], shape=(10,), dtype=float32)\n",
      "tf.Tensor(\n",
      "[ 0.11488773  0.15150222 -0.02027255 -0.10096979 -0.14749856 -0.19671813\n",
      "  0.12003344  0.46950108 -0.03427629 -0.18273947], shape=(10,), dtype=float32)\n",
      "tf.Tensor(\n",
      "[ 0.11488773  0.15150222 -0.02027255 -0.10096979 -0.14749856 -0.19671813\n",
      "  0.12003344  0.46950108 -0.03427629 -0.18273947], shape=(10,), dtype=float32)\n",
      "tf.Tensor(\n",
      "[-0.17037618  0.22004437  0.01615313 -0.19632903 -0.11045155 -0.19124405\n",
      "  0.2530265   0.339638    0.08707878 -0.09079125], shape=(10,), dtype=float32)\n",
      "[ 0.11488751  0.15150225 -0.02027243 -0.10096963 -0.14749856 -0.1967181\n",
      "  0.12003354  0.46950117 -0.0342764  -0.18273985]\n"
     ]
    }
   ],
   "source": [
    "sentence='It can be any sentence here'\n",
    "encoded_input = tokenizer(sentence, return_tensors='tf')\n",
    "output0 = model(encoded_input)[0]\n",
    "output1 = model(encoded_input,training=False)[0]\n",
    "output2 = model(encoded_input,training=True)[0]\n",
    "output3 = model.call(encoded_input)[0]\n",
    "output4 = model.call(encoded_input,training=False)[0]\n",
    "output5 = model.call(encoded_input,training=True)[0]\n",
    "output6 = model.predict([encoded_input[\"input_ids\"],encoded_input[\"attention_mask\"],encoded_input[\"token_type_ids\"]])[0]\n",
    "print(output0[0,0,:10])\n",
    "print(output1[0,0,:10])\n",
    "print(output2[0,0,:10])\n",
    "print(output3[0,0,:10])\n",
    "print(output4[0,0,:10])\n",
    "print(output5[0,0,:10])\n",
    "print(output6[0,0,:10])"
   ]
  },
  {
   "cell_type": "code",
   "execution_count": 4,
   "id": "984afdb1-74a4-443e-aaeb-dbfeb2737e8a",
   "metadata": {},
   "outputs": [
    {
     "data": {
      "text/plain": [
       "dict_keys(['input_ids', 'token_type_ids', 'attention_mask'])"
      ]
     },
     "execution_count": 4,
     "metadata": {},
     "output_type": "execute_result"
    }
   ],
   "source": [
    "encoded_input.keys()"
   ]
  },
  {
   "cell_type": "code",
   "execution_count": 8,
   "id": "915b1d9b-23b3-4d0c-a8eb-8f7ca41cc64d",
   "metadata": {},
   "outputs": [
    {
     "data": {
      "text/plain": [
       "<tf.Tensor: shape=(1, 8, 768), dtype=float32, numpy=\n",
       "array([[[ 0.13232154,  0.08088904, -0.1716167 , ...,  0.03346591,\n",
       "          0.05159281,  0.5703111 ],\n",
       "        [ 0.08334889, -0.35997775,  0.13129915, ..., -0.17552388,\n",
       "         -0.03466264,  0.5091908 ],\n",
       "        [ 0.55754316, -0.00217492,  0.9917796 , ..., -0.77036554,\n",
       "         -0.178095  ,  0.64196044],\n",
       "        ...,\n",
       "        [ 0.84617907, -0.14945932, -0.07774588, ..., -0.26338732,\n",
       "         -0.14298806,  0.02113719],\n",
       "        [-0.10728773, -0.01997401, -0.45457643, ...,  0.07950781,\n",
       "          0.11281544,  0.22103259],\n",
       "        [ 1.1418797 ,  0.02942392, -0.5872625 , ..., -0.05628741,\n",
       "         -0.801604  , -0.16937293]]], dtype=float32)>"
      ]
     },
     "execution_count": 8,
     "metadata": {},
     "output_type": "execute_result"
    }
   ],
   "source": [
    "model(encoded_input,training=True)[0]"
   ]
  },
  {
   "cell_type": "code",
   "execution_count": 9,
   "id": "4711e0c2-ec32-472f-995f-9d14c1f2da74",
   "metadata": {},
   "outputs": [
    {
     "data": {
      "text/plain": [
       "<tf.Tensor: shape=(1, 8, 768), dtype=float32, numpy=\n",
       "array([[[-0.02229181,  0.07878177, -0.10951577, ..., -0.10653   ,\n",
       "          0.03892087,  0.44071853],\n",
       "        [-0.01814182, -0.30724216,  0.01014899, ..., -0.28090686,\n",
       "         -0.07855666,  0.36477852],\n",
       "        [ 0.4363826 ,  0.60516286,  0.8599453 , ..., -0.1495484 ,\n",
       "         -0.19993204,  0.36717892],\n",
       "        ...,\n",
       "        [ 0.17633465,  0.03944876, -0.303984  , ..., -0.36724544,\n",
       "         -0.08367194,  0.03669083],\n",
       "        [-0.27849832, -0.33478263, -0.49298713, ...,  0.16291746,\n",
       "          0.31793776, -0.13062677],\n",
       "        [-0.18577403, -0.10005448,  0.3130846 , ..., -0.3771929 ,\n",
       "         -1.0018728 ,  0.7535521 ]]], dtype=float32)>"
      ]
     },
     "execution_count": 9,
     "metadata": {},
     "output_type": "execute_result"
    }
   ],
   "source": [
    "model(encoded_input,training=True)[0]"
   ]
  },
  {
   "cell_type": "code",
   "execution_count": null,
   "id": "99a5b7f7-dc16-40ae-94a4-9559e481b899",
   "metadata": {},
   "outputs": [],
   "source": []
  }
 ],
 "metadata": {
  "kernelspec": {
   "display_name": "Python 3 (ipykernel)",
   "language": "python",
   "name": "python3"
  },
  "language_info": {
   "codemirror_mode": {
    "name": "ipython",
    "version": 3
   },
   "file_extension": ".py",
   "mimetype": "text/x-python",
   "name": "python",
   "nbconvert_exporter": "python",
   "pygments_lexer": "ipython3",
   "version": "3.9.0"
  }
 },
 "nbformat": 4,
 "nbformat_minor": 5
}
