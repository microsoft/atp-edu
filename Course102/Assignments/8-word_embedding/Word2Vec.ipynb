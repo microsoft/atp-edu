{
 "cells": [
  {
   "cell_type": "code",
   "execution_count": 1,
   "id": "ed523449-565c-47e4-807a-154cb42cf3d3",
   "metadata": {},
   "outputs": [],
   "source": [
    "import io\n",
    "import re\n",
    "import string\n",
    "\n",
    "import numpy as np\n",
    "import jieba\n",
    "import json\n",
    "import tqdm\n",
    "\n",
    "import tensorflow as tf\n",
    "from tensorflow.keras import layers\n",
    "SEED = 42\n",
    "tf.random.set_seed(SEED)\n",
    "np.random.seed(SEED)"
   ]
  },
  {
   "cell_type": "markdown",
   "id": "e5bfa5f5-2ff7-46ce-be42-d9507809f848",
   "metadata": {},
   "source": [
    "### 使用今日头条新闻数据集构建W2V数据集"
   ]
  },
  {
   "cell_type": "code",
   "execution_count": 2,
   "id": "11afbc00-21d4-435c-a015-23aa463662d4",
   "metadata": {},
   "outputs": [
    {
     "name": "stderr",
     "output_type": "stream",
     "text": [
      "Building prefix dict from the default dictionary ...\n",
      "Loading model from cache /tmp/jieba.cache\n",
      "Loading model cost 0.651 seconds.\n",
      "Prefix dict has been built successfully.\n"
     ]
    },
    {
     "name": "stdout",
     "output_type": "stream",
     "text": [
      "数据公用53360行，平均词长度12.904891304347826,最大词长度81\n"
     ]
    }
   ],
   "source": [
    "line_num = 0\n",
    "len_list=[]\n",
    "with open('train.json') as input_file:\n",
    "    with open('w2v_corpus.txt','w') as output_file:\n",
    "        for l in input_file.readlines():\n",
    "            line_num+=1\n",
    "            obj = json.loads(l)\n",
    "            token_list = jieba.lcut(obj['sentence'])\n",
    "            len_list.append(len(token_list))\n",
    "            splitted_sentence = \" \".join(token_list)\n",
    "            output_file.write(splitted_sentence+'\\n')\n",
    "max_len = max(len_list)\n",
    "avg_len = sum(len_list)/line_num\n",
    "print(f'数据公用{line_num}行，平均词长度{avg_len},最大词长度{max_len}')"
   ]
  },
  {
   "cell_type": "markdown",
   "id": "1834fc22-8712-453b-a457-25850d6c072c",
   "metadata": {},
   "source": [
    "## 构建Skip-gram数据集构建方法讲解\n",
    "\n",
    "![cbow & skip gram](https://miro.medium.com/max/700/1*cuOmGT7NevP9oJFJfVpRKA.png)\n",
    "\n",
    "以`这节课我们一起来学习词嵌入。`为例"
   ]
  },
  {
   "cell_type": "code",
   "execution_count": 3,
   "id": "3df0f881-ed08-4aec-9ce6-381be2dee958",
   "metadata": {},
   "outputs": [
    {
     "name": "stdout",
     "output_type": "stream",
     "text": [
      "分词结果 ['这节', '课', '我们', '一', '起来', '学习', '词', '嵌入', '。']\n"
     ]
    }
   ],
   "source": [
    "sentence = \"这节课我们一起来学习词嵌入。\"\n",
    "tokens = jieba.lcut(sentence)\n",
    "print('分词结果', (tokens))"
   ]
  },
  {
   "cell_type": "code",
   "execution_count": 4,
   "id": "f1a58462-7d84-459d-aa05-456c3eec8b63",
   "metadata": {},
   "outputs": [
    {
     "name": "stdout",
     "output_type": "stream",
     "text": [
      "词典 {0: '<pad>', 1: '这节', 2: '课', 3: '我们', 4: '一', 5: '起来', 6: '学习', 7: '词', 8: '嵌入', 9: '。'}\n"
     ]
    }
   ],
   "source": [
    "#构建词典\n",
    "vocab, index = {}, 1  \n",
    "vocab['<pad>'] = 0  \n",
    "for token in tokens:\n",
    "  if token not in vocab:\n",
    "    vocab[token] = index\n",
    "    index += 1\n",
    "vocab_size = len(vocab)\n",
    "inverse_vocab_dict = {index: token for token, index in vocab.items()}\n",
    "print('词典',inverse_vocab_dict)"
   ]
  },
  {
   "cell_type": "code",
   "execution_count": 5,
   "id": "cb41d708-b482-430f-a261-917256b4266c",
   "metadata": {},
   "outputs": [
    {
     "name": "stdout",
     "output_type": "stream",
     "text": [
      "句子编码: [1, 2, 3, 4, 5, 6, 7, 8, 9]\n"
     ]
    }
   ],
   "source": [
    "example_sequence = [vocab[word] for word in tokens]\n",
    "print('句子编码:',example_sequence)"
   ]
  },
  {
   "cell_type": "code",
   "execution_count": 6,
   "id": "f3c91a0d-d0e6-4ea8-bd01-e2a4082ea8e4",
   "metadata": {},
   "outputs": [
    {
     "name": "stdout",
     "output_type": "stream",
     "text": [
      "(5, 4): (起来, 一)\n",
      "(8, 6): (嵌入, 学习)\n",
      "(2, 4): (课, 一)\n",
      "(4, 2): (一, 课)\n",
      "(4, 3): (一, 我们)\n",
      "(4, 6): (一, 学习)\n",
      "(4, 5): (一, 起来)\n",
      "(3, 1): (我们, 这节)\n",
      "(3, 5): (我们, 起来)\n",
      "(1, 2): (这节, 课)\n",
      "(2, 1): (课, 这节)\n",
      "(6, 4): (学习, 一)\n",
      "(8, 7): (嵌入, 词)\n",
      "(7, 9): (词, 。)\n",
      "(3, 2): (我们, 课)\n",
      "(5, 3): (起来, 我们)\n",
      "(7, 5): (词, 起来)\n",
      "(7, 8): (词, 嵌入)\n",
      "(5, 7): (起来, 词)\n",
      "(6, 8): (学习, 嵌入)\n",
      "(7, 6): (词, 学习)\n",
      "(9, 8): (。, 嵌入)\n",
      "(6, 5): (学习, 起来)\n",
      "(2, 3): (课, 我们)\n",
      "(9, 7): (。, 词)\n",
      "(6, 7): (学习, 词)\n",
      "(5, 6): (起来, 学习)\n",
      "(8, 9): (嵌入, 。)\n",
      "(3, 4): (我们, 一)\n",
      "(1, 3): (这节, 我们)\n"
     ]
    }
   ],
   "source": [
    "# 构建正例 ,这里不用skipgram的负例构建\n",
    "window_size = 2\n",
    "positive_skip_grams, labels = tf.keras.preprocessing.sequence.skipgrams(\n",
    "      example_sequence,\n",
    "      vocabulary_size=vocab_size,\n",
    "      window_size=window_size,\n",
    "      negative_samples=0)\n",
    "for target, context in positive_skip_grams[:]:\n",
    "  print(f\"({target}, {context}): ({inverse_vocab_dict[target]}, {inverse_vocab_dict[context]})\")"
   ]
  },
  {
   "cell_type": "code",
   "execution_count": 7,
   "id": "7b743382-6b2a-4b42-a345-f092ae21d5f4",
   "metadata": {},
   "outputs": [
    {
     "name": "stdout",
     "output_type": "stream",
     "text": [
      "tf.Tensor([1 6 3 8], shape=(4,), dtype=int64)\n",
      "['这节', '学习', '我们', '嵌入']\n"
     ]
    }
   ],
   "source": [
    "# 随机为target词选取n个负例，还可以考虑将正例从随机选择的负例中剔除\n",
    "target_word, context_word = positive_skip_grams[0]\n",
    "\n",
    "num_ns = 4  # 负例数量\n",
    "\n",
    "context_class = tf.reshape(tf.constant(context_word, dtype=\"int64\"), (1, 1))\n",
    "negative_sampling_candidates, _, _ = tf.random.log_uniform_candidate_sampler(\n",
    "    true_classes=context_class,  \n",
    "    num_true=1,  \n",
    "    num_sampled=num_ns,  \n",
    "    unique=True, \n",
    "    range_max=vocab_size,  \n",
    "    seed=SEED,  \n",
    "    name=\"negative_sampling\"  \n",
    ")\n",
    "print(negative_sampling_candidates)\n",
    "print([inverse_vocab_dict[index.numpy()] for index in negative_sampling_candidates])"
   ]
  },
  {
   "cell_type": "code",
   "execution_count": 8,
   "id": "e993a534-3af8-458a-8f47-026e483f78f7",
   "metadata": {},
   "outputs": [
    {
     "name": "stdout",
     "output_type": "stream",
     "text": [
      "target_index    : 5\n",
      "target_word     : 起来\n",
      "context_indices : [4 1 6 3 8]\n",
      "context_words   : ['一', '这节', '学习', '我们', '嵌入']\n",
      "label           : [1 0 0 0 0]\n"
     ]
    }
   ],
   "source": [
    "negative_sampling_candidates = tf.expand_dims(negative_sampling_candidates, 1)\n",
    "\n",
    "context = tf.concat([context_class, negative_sampling_candidates], 0)\n",
    "\n",
    "label = tf.constant([1] + [0]*num_ns, dtype=\"int64\")\n",
    "\n",
    "target = tf.squeeze(target_word)\n",
    "context = tf.squeeze(context)\n",
    "label = tf.squeeze(label)\n",
    "\n",
    "print(f\"target_index    : {target}\")\n",
    "print(f\"target_word     : {inverse_vocab_dict[target_word]}\")\n",
    "print(f\"context_indices : {context}\")\n",
    "print(f\"context_words   : {[inverse_vocab_dict[c.numpy()] for c in context]}\")\n",
    "print(f\"label           : {label}\")"
   ]
  },
  {
   "cell_type": "markdown",
   "id": "b91babf3-51ab-47ec-b01d-15fc28323b18",
   "metadata": {},
   "source": [
    "##  构建数据集\n",
    "\n",
    "这里构建数据集的方式和前面方法一致,只是使用了一些keras API来降低开发复杂度"
   ]
  },
  {
   "cell_type": "code",
   "execution_count": 9,
   "id": "d4522bbe-a910-4ab7-abec-52a649d1d1f6",
   "metadata": {},
   "outputs": [],
   "source": [
    "def generate_training_data(sequences, window_size, num_ns, vocab_size, seed):\n",
    "    targets, contexts, labels = [], [], []\n",
    "\n",
    "    sampling_table = tf.keras.preprocessing.sequence.make_sampling_table(vocab_size) #构建采样概率表,用来平衡对不同数据的采样操作\n",
    "\n",
    "    for sequence in tqdm.tqdm(sequences):\n",
    "        positive_skip_grams, _ = tf.keras.preprocessing.sequence.skipgrams(\n",
    "            sequence,\n",
    "            vocabulary_size=vocab_size,\n",
    "            sampling_table=sampling_table,\n",
    "            window_size=window_size,\n",
    "            negative_samples=0)\n",
    "\n",
    "        for target_word, context_word in positive_skip_grams:\n",
    "            context_class = tf.expand_dims(\n",
    "                tf.constant([context_word], dtype=\"int64\"), 1)\n",
    "            negative_sampling_candidates, _, _ = tf.random.log_uniform_candidate_sampler(\n",
    "                true_classes=context_class,\n",
    "                num_true=1,\n",
    "                num_sampled=num_ns,\n",
    "                unique=True,\n",
    "                range_max=vocab_size,\n",
    "                seed=SEED,\n",
    "                name=\"negative_sampling\")\n",
    "\n",
    "            negative_sampling_candidates = tf.expand_dims(\n",
    "                negative_sampling_candidates, 1)\n",
    "\n",
    "            context = tf.concat([context_class, negative_sampling_candidates], 0)\n",
    "            label = tf.constant([1] + [0] * num_ns, dtype=\"int64\")\n",
    "\n",
    "            targets.append(target_word)\n",
    "            contexts.append(context)\n",
    "            labels.append(label)\n",
    "\n",
    "    return targets, contexts, labels"
   ]
  },
  {
   "cell_type": "code",
   "execution_count": 10,
   "id": "d45f83a1-c588-4b95-abd8-1afdc4a1d32f",
   "metadata": {},
   "outputs": [],
   "source": [
    "def custom_standardization(input_data):  \n",
    "    \"\"\"对数据进行标准化(去除标点符号)\"\"\"\n",
    "    return tf.strings.regex_replace(input_data,\n",
    "                                  '[%s]' % re.escape(string.punctuation+'，。？！、：“”()（）《》'), '')\n",
    "\n",
    "vocab_size = 8000\n",
    "sequence_length = 20\n",
    "\n",
    "vectorize_layer = layers.TextVectorization(\n",
    "    standardize=custom_standardization,\n",
    "    max_tokens=vocab_size,\n",
    "    output_mode='int',\n",
    "    output_sequence_length=sequence_length)"
   ]
  },
  {
   "cell_type": "code",
   "execution_count": 11,
   "id": "3de1d340-32e8-4ae4-8149-572e623ef55b",
   "metadata": {},
   "outputs": [],
   "source": [
    "text_ds = tf.data.TextLineDataset('w2v_corpus.txt')"
   ]
  },
  {
   "cell_type": "code",
   "execution_count": 12,
   "id": "2388dfb7-6218-4c41-be30-b3e14ee04b7c",
   "metadata": {},
   "outputs": [],
   "source": [
    "vectorize_layer.adapt(text_ds.batch(1024))"
   ]
  },
  {
   "cell_type": "code",
   "execution_count": 13,
   "id": "e69601ff-a8ad-43ef-9933-4978e5022ec9",
   "metadata": {},
   "outputs": [
    {
     "name": "stdout",
     "output_type": "stream",
     "text": [
      "['', '[UNK]', '的', '了', '是', '你', '有', '在', '吗', '什么', '中国', '为什么', '如何', '都', '和', '怎么', '人', '不', '被', '会', '我', '对', '美国', '年', '看', '上', '—', '最', '能', '这', '一个', '好', '要', '还', '就', '将', '后', '大', '与', '中', '让', '哪些', '5', '他', '世界', '去', '却', '到', '谁', '新', '月', '2018', '多', '可以', '说', '也', '又', '上联', '个', '来', '下联', '网友', '如果', '手机', '做', '万', '日本', '还是', '用', '没有', '现在', '为', '农村', '…', '买', '为何', '」', '「', '这个', '给', '3', '把', '呢', '岁', '怎样', '10', '多少', '一', '｜', '很', '哪个', '国家', '知道', '到底', '更', '她', '4', '真的', '俄罗斯', '想']\n"
     ]
    }
   ],
   "source": [
    "inverse_vocab = vectorize_layer.get_vocabulary()\n",
    "print(inverse_vocab[:100])"
   ]
  },
  {
   "cell_type": "code",
   "execution_count": 14,
   "id": "a21019bf-bb19-4b1f-911a-5bcb6783f24d",
   "metadata": {},
   "outputs": [],
   "source": [
    "text_vector_ds = text_ds.batch(1024).prefetch(tf.data.AUTOTUNE).map(vectorize_layer).unbatch()"
   ]
  },
  {
   "cell_type": "code",
   "execution_count": 15,
   "id": "d22da18d-4fca-41b0-9ead-7721e303b1ef",
   "metadata": {},
   "outputs": [
    {
     "name": "stdout",
     "output_type": "stream",
     "text": [
      "训练数据总条数： 53360\n"
     ]
    }
   ],
   "source": [
    "sequences = list(text_vector_ds.as_numpy_iterator())\n",
    "print('训练数据总条数：',len(sequences))"
   ]
  },
  {
   "cell_type": "code",
   "execution_count": 16,
   "id": "db670fa7-cf8c-44c7-91e3-aca87cb2f908",
   "metadata": {},
   "outputs": [
    {
     "name": "stdout",
     "output_type": "stream",
     "text": [
      "[1307  199   63 1302  985  224 1249   81   63 1039    3  331  237 1082\n",
      "   40  224  962  177   15  112] => ['上课时', '学生', '手机', '响个', '不停', '老师', '一怒之下', '把', '手机', '摔', '了', '家长', '拿', '发票', '让', '老师', '赔', '大家', '怎么', '看待']\n",
      "[   1 4442  571 1036  436 7890 2971    1   21  123  325   23    1    2\n",
      "    1    1    1    1    2  929] => ['[UNK]', '环球', '股份', '有限公司', '关于', '延期', '回复', '[UNK]', '对', '公司', '2017', '年', '[UNK]', '的', '[UNK]', '[UNK]', '[UNK]', '[UNK]', '的', '公告']\n",
      "[ 716 3212  123   74    3 2151 2160   13 4597    3   70 6774  984  230\n",
      "    3   15 1243    0    0    0] => ['通过', '中介', '公司', '买', '了', '二手房', '首付', '都', '付', '了', '现在', '卖家', '不想', '卖', '了', '怎么', '处理', '', '', '']\n",
      "[ 51  23  45  98  24 721   1  86 110   0   0   0   0   0   0   0   0   0\n",
      "   0   0] => ['2018', '年', '去', '俄罗斯', '看', '世界杯', '[UNK]', '多少', '钱', '', '', '', '', '', '', '', '', '', '', '']\n",
      "[   1    2 4154    1    1 2194 3173  341 2233 1547    0    0    0    0\n",
      "    0    0    0    0    0    0] => ['[UNK]', '的', '个性', '[UNK]', '[UNK]', '天猫', '定制', '版', '新品', '首发', '', '', '', '', '', '', '', '', '', '']\n"
     ]
    }
   ],
   "source": [
    "# 原句和onehot embedding样例\n",
    "for seq in sequences[:5]:\n",
    "    print(f\"{seq} => {[inverse_vocab[i] for i in seq]}\")"
   ]
  },
  {
   "cell_type": "code",
   "execution_count": 17,
   "id": "eb21a45a-833d-41d3-b8ee-52dc9a04db41",
   "metadata": {},
   "outputs": [
    {
     "name": "stderr",
     "output_type": "stream",
     "text": [
      "100%|███████████████████████████████████████████████████████████████████████████████████████████████████████████████████████████████████████████████████████████| 53360/53360 [00:44<00:00, 1198.41it/s]\n"
     ]
    },
    {
     "name": "stdout",
     "output_type": "stream",
     "text": [
      "\n",
      "\n",
      "targets.shape: (382689,)\n",
      "contexts.shape: (382689, 5)\n",
      "labels.shape: (382689, 5)\n"
     ]
    }
   ],
   "source": [
    "targets, contexts, labels = generate_training_data(\n",
    "    sequences=sequences,\n",
    "    window_size=2,\n",
    "    num_ns=4,\n",
    "    vocab_size=vocab_size,\n",
    "    seed=SEED)\n",
    "\n",
    "targets = np.array(targets)\n",
    "contexts = np.array(contexts)[:,:,0]\n",
    "labels = np.array(labels)\n",
    "\n",
    "print('\\n')\n",
    "print(f\"targets.shape: {targets.shape}\")\n",
    "print(f\"contexts.shape: {contexts.shape}\")\n",
    "print(f\"labels.shape: {labels.shape}\")\n"
   ]
  },
  {
   "cell_type": "code",
   "execution_count": 18,
   "id": "7a03deb7-61bc-486d-a668-ed0646a666ea",
   "metadata": {},
   "outputs": [
    {
     "name": "stdout",
     "output_type": "stream",
     "text": [
      "<BatchDataset element_spec=((TensorSpec(shape=(1024,), dtype=tf.int64, name=None), TensorSpec(shape=(1024, 5), dtype=tf.int64, name=None)), TensorSpec(shape=(1024, 5), dtype=tf.int64, name=None))>\n"
     ]
    }
   ],
   "source": [
    "BATCH_SIZE = 1024\n",
    "BUFFER_SIZE = 10000\n",
    "dataset = tf.data.Dataset.from_tensor_slices(((targets, contexts), labels))\n",
    "dataset = dataset.shuffle(BUFFER_SIZE).batch(BATCH_SIZE, drop_remainder=True)\n",
    "print(dataset)"
   ]
  },
  {
   "cell_type": "markdown",
   "id": "6b46cab5-5f1d-419f-bef7-93369d927190",
   "metadata": {},
   "source": [
    "## 模型构建\n",
    " 1. embedding层（onehot->tensor）+ 矩阵相乘 = 相似度\n",
    " 2. 这里对target和context使用了不同的嵌入层, 不过模型结构可以调整"
   ]
  },
  {
   "cell_type": "code",
   "execution_count": 19,
   "id": "02ad1ddc-de79-4a22-ab3b-c8fd76ac339d",
   "metadata": {},
   "outputs": [],
   "source": [
    "class Word2Vec(tf.keras.Model):\n",
    "    def __init__(self, vocab_size, embedding_dim):\n",
    "        super(Word2Vec, self).__init__()\n",
    "        self.embedding_dim = embedding_dim\n",
    "        self.target_embedding = layers.Embedding(vocab_size,\n",
    "                                          embedding_dim,\n",
    "                                          input_length=1,\n",
    "                                          name=\"w2v_embedding\")\n",
    "        self.context_embedding = layers.Embedding(vocab_size,\n",
    "                                           embedding_dim,\n",
    "                                           input_length=num_ns+1)\n",
    "\n",
    "    def call(self, pair):\n",
    "        target, context = pair\n",
    "        if len(target.shape) == 2:\n",
    "            target = tf.squeeze(target, axis=1)\n",
    "        word_emb = self.target_embedding(target)\n",
    "        context_emb = self.context_embedding(context)\n",
    "        dots = tf.einsum('be,bce->bc', word_emb, context_emb)  # 可以理解成向量元素相乘再求和\n",
    "        return dots"
   ]
  },
  {
   "cell_type": "code",
   "execution_count": 20,
   "id": "4b5a58d3-e829-4407-8941-75dd5084f3d5",
   "metadata": {},
   "outputs": [],
   "source": [
    "embedding_dim = 128\n",
    "word2vec = Word2Vec(vocab_size, embedding_dim)\n",
    "word2vec.compile(optimizer='adam',\n",
    "                 loss=tf.keras.losses.CategoricalCrossentropy(from_logits=True),\n",
    "                 metrics=['accuracy'])"
   ]
  },
  {
   "cell_type": "code",
   "execution_count": 21,
   "id": "2e23a585-e1f3-4b34-9b3f-e1a290cdcbbc",
   "metadata": {},
   "outputs": [],
   "source": [
    "tensorboard_callback = tf.keras.callbacks.TensorBoard(log_dir=\"logs\")"
   ]
  },
  {
   "cell_type": "code",
   "execution_count": 22,
   "id": "7840174f-c3d2-4e19-b33b-b80fee98754d",
   "metadata": {},
   "outputs": [
    {
     "name": "stdout",
     "output_type": "stream",
     "text": [
      "Epoch 1/20\n",
      "373/373 [==============================] - 9s 22ms/step - loss: 1.5094 - accuracy: 0.3762\n",
      "Epoch 2/20\n",
      "373/373 [==============================] - 8s 21ms/step - loss: 1.3646 - accuracy: 0.4605\n",
      "Epoch 3/20\n",
      "373/373 [==============================] - 8s 21ms/step - loss: 1.2765 - accuracy: 0.5114\n",
      "Epoch 4/20\n",
      "373/373 [==============================] - 8s 22ms/step - loss: 1.1714 - accuracy: 0.5744\n",
      "Epoch 5/20\n",
      "373/373 [==============================] - 8s 22ms/step - loss: 1.0600 - accuracy: 0.6366\n",
      "Epoch 6/20\n",
      "373/373 [==============================] - 8s 22ms/step - loss: 0.9512 - accuracy: 0.6906\n",
      "Epoch 7/20\n",
      "373/373 [==============================] - 8s 22ms/step - loss: 0.8494 - accuracy: 0.7363\n",
      "Epoch 8/20\n",
      "373/373 [==============================] - 8s 21ms/step - loss: 0.7569 - accuracy: 0.7744\n",
      "Epoch 9/20\n",
      "373/373 [==============================] - 8s 21ms/step - loss: 0.6744 - accuracy: 0.8071\n",
      "Epoch 10/20\n",
      "373/373 [==============================] - 8s 22ms/step - loss: 0.6016 - accuracy: 0.8352\n",
      "Epoch 11/20\n",
      "373/373 [==============================] - 8s 21ms/step - loss: 0.5378 - accuracy: 0.8588\n",
      "Epoch 12/20\n",
      "373/373 [==============================] - 8s 21ms/step - loss: 0.4820 - accuracy: 0.8789\n",
      "Epoch 13/20\n",
      "373/373 [==============================] - 8s 22ms/step - loss: 0.4333 - accuracy: 0.8964\n",
      "Epoch 14/20\n",
      "373/373 [==============================] - 8s 21ms/step - loss: 0.3908 - accuracy: 0.9104\n",
      "Epoch 15/20\n",
      "373/373 [==============================] - 8s 22ms/step - loss: 0.3539 - accuracy: 0.9220\n",
      "Epoch 16/20\n",
      "373/373 [==============================] - 8s 22ms/step - loss: 0.3216 - accuracy: 0.9316\n",
      "Epoch 17/20\n",
      "373/373 [==============================] - 8s 21ms/step - loss: 0.2935 - accuracy: 0.9393\n",
      "Epoch 18/20\n",
      "373/373 [==============================] - 8s 22ms/step - loss: 0.2689 - accuracy: 0.9452\n",
      "Epoch 19/20\n",
      "373/373 [==============================] - 8s 22ms/step - loss: 0.2474 - accuracy: 0.9499\n",
      "Epoch 20/20\n",
      "373/373 [==============================] - 8s 22ms/step - loss: 0.2287 - accuracy: 0.9536\n"
     ]
    },
    {
     "data": {
      "text/plain": [
       "<keras.callbacks.History at 0x7f48c2ec7df0>"
      ]
     },
     "execution_count": 22,
     "metadata": {},
     "output_type": "execute_result"
    }
   ],
   "source": [
    "word2vec.fit(dataset, epochs=20, callbacks=[tensorboard_callback])"
   ]
  },
  {
   "cell_type": "markdown",
   "id": "12f136c6-5aa4-490d-9384-b7e2439af583",
   "metadata": {},
   "source": [
    "### tensorboard输出"
   ]
  },
  {
   "attachments": {
    "8ed64665-4819-49d0-9757-b26a58f5800e.png": {
     "image/png": "[encoded data removed]"
    }
   },
   "cell_type": "markdown",
   "id": "0b0c635e-43a5-4a84-97da-8ae2751abbbe",
   "metadata": {},
   "source": [
    "![image.png](attachment:8ed64665-4819-49d0-9757-b26a58f5800e.png)"
   ]
  },
  {
   "cell_type": "markdown",
   "id": "5dd2baa6-5c0a-4aae-b715-8495f40ad30a",
   "metadata": {},
   "source": [
    "## W2V的embedding获取"
   ]
  },
  {
   "cell_type": "code",
   "execution_count": 23,
   "id": "c1b81b70-c5b7-404b-980d-853351de33ac",
   "metadata": {},
   "outputs": [],
   "source": [
    "weights = word2vec.get_layer('w2v_embedding').get_weights()[0]\n",
    "vocab = vectorize_layer.get_vocabulary()\n",
    "index_vocab = {v:i for i,v in enumerate(vocab)}"
   ]
  },
  {
   "cell_type": "markdown",
   "id": "44ba70f6-8e69-449e-b4b6-b49984da0873",
   "metadata": {},
   "source": [
    "### 举例"
   ]
  },
  {
   "cell_type": "code",
   "execution_count": 24,
   "id": "11c7b0fc-0760-4522-b669-4892c032e1fa",
   "metadata": {},
   "outputs": [
    {
     "name": "stdout",
     "output_type": "stream",
     "text": [
      "[大国]和[中国]的距离是 16.831966400146484\n",
      "[大国]和[美国]的距离是 20.225608825683594\n",
      "[大国]和[日本]的距离是 19.882492065429688\n",
      "[大国]和[英国]的距离是 17.923961639404297\n",
      "[大国]和[法国]的距离是 22.192155838012695\n",
      "[大国]和[德国]的距离是 16.45687484741211\n",
      "[大国]和[越南]的距离是 19.950305938720703\n",
      "[富裕]和[中国]的距离是 17.12238883972168\n",
      "[富裕]和[美国]的距离是 17.621747970581055\n",
      "[富裕]和[日本]的距离是 15.964193344116211\n",
      "[富裕]和[英国]的距离是 21.92197036743164\n",
      "[富裕]和[法国]的距离是 20.73276138305664\n",
      "[富裕]和[德国]的距离是 15.814231872558594\n",
      "[富裕]和[越南]的距离是 16.285099029541016\n"
     ]
    }
   ],
   "source": [
    "# candidate_list = ['中国','美国','日本','英国', '法国','德国'，'越南'] ['大国'，'发达']\n",
    "\n",
    "\n",
    "def calculate_dis(word1,word2):\n",
    "    if (word1 not in index_vocab or word2 not in index_vocab):\n",
    "        raise Exception(f'{word1} 或 {word2} 不在词表中')\n",
    "    vec1 = weights[index_vocab[word1]]\n",
    "    vec2 = weights[index_vocab[word2]]\n",
    "    return np.sum(np.square(vec1-vec2))\n",
    "    \n",
    "count = 0\n",
    "for word1 in ['大国','富裕']:\n",
    "    if count>10:\n",
    "        break\n",
    "    for word2 in ['中国','美国','日本','英国','法国','德国','越南']:\n",
    "        distance = calculate_dis(word1,word2)\n",
    "        if distance!=0 :\n",
    "            print(f'[{word1}]和[{word2}]的距离是 {distance}')\n",
    "            count+=1\n"
   ]
  },
  {
   "cell_type": "code",
   "execution_count": 25,
   "id": "ad32bb41-23f4-49dc-9488-f86af8c4a504",
   "metadata": {},
   "outputs": [
    {
     "name": "stdout",
     "output_type": "stream",
     "text": [
      "[说]和[烟]的距离是 8.911432266235352\n",
      "[下联]和[下句]的距离是 6.558091163635254\n",
      "[下联]和[飘香]的距离是 7.7965545654296875\n",
      "[下联]和[对句]的距离是 8.742475509643555\n",
      "[下联]和[克制]的距离是 8.891918182373047\n",
      "[下联]和[五州亲]的距离是 8.743525505065918\n",
      "[下联]和[浅]的距离是 8.519316673278809\n",
      "[知道]和[认识]的距离是 8.21878433227539\n",
      "[知道]和[可惜]的距离是 8.971099853515625\n",
      "[知道]和[银行卡]的距离是 8.620810508728027\n",
      "[知道]和[眼中]的距离是 8.513176918029785\n",
      "[知道]和[道理]的距离是 7.5686235427856445\n",
      "[知道]和[小国]的距离是 8.45608901977539\n",
      "[知道]和[表达]的距离是 8.3201904296875\n",
      "[知道]和[这辈子]的距离是 8.663381576538086\n",
      "[知道]和[学到]的距离是 8.828834533691406\n",
      "[知道]和[吃亏]的距离是 8.401939392089844\n",
      "[知道]和[没什么]的距离是 7.8997368812561035\n",
      "[知道]和[看不懂]的距离是 8.569522857666016\n",
      "[知道]和[飘]的距离是 8.689916610717773\n",
      "[知道]和[秘密武器]的距离是 8.808694839477539\n",
      "[知道]和[混凝土]的距离是 8.936899185180664\n"
     ]
    }
   ],
   "source": [
    "candidate_list = vocab[2:]\n",
    "count = 0\n",
    "for word1 in candidate_list:\n",
    "    if count>20:\n",
    "        break\n",
    "    for word2 in candidate_list:\n",
    "        distance = calculate_dis(word1,word2)\n",
    "        if distance!=0 and distance<9:\n",
    "            print(f'[{word1}]和[{word2}]的距离是 {distance}')\n",
    "            count+=1"
   ]
  },
  {
   "cell_type": "code",
   "execution_count": null,
   "id": "c99fce2f-4d77-481c-a74b-912b0fedcfed",
   "metadata": {},
   "outputs": [],
   "source": []
  }
 ],
 "metadata": {
  "kernelspec": {
   "display_name": "Python 3 (ipykernel)",
   "language": "python",
   "name": "python3"
  },
  "language_info": {
   "codemirror_mode": {
    "name": "ipython",
    "version": 3
   },
   "file_extension": ".py",
   "mimetype": "text/x-python",
   "name": "python",
   "nbconvert_exporter": "python",
   "pygments_lexer": "ipython3",
   "version": "3.9.12"
  }
 },
 "nbformat": 4,
 "nbformat_minor": 5
}
