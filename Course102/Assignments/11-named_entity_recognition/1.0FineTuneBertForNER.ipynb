{
 "cells": [
  {
   "cell_type": "code",
   "execution_count": 1,
   "id": "74022af0-8738-4ebd-9f82-5c845e44b005",
   "metadata": {},
   "outputs": [],
   "source": [
    "import os\n",
    "import shutil\n",
    "import json\n",
    "import tensorflow as tf\n",
    "import tensorflow_hub as hub\n",
    "import tensorflow_text as text\n",
    "import numpy as np\n",
    "# from official.nlp import optimization  # to create AdamW optimizer\n",
    "\n",
    "RANDOM_SEED=68\n",
    "tf.random.set_seed(RANDOM_SEED)\n",
    "np.random.seed(RANDOM_SEED)"
   ]
  },
  {
   "cell_type": "code",
   "execution_count": 2,
   "id": "794dea3d-36a3-4c0f-9f5e-2a11a052b54f",
   "metadata": {},
   "outputs": [
    {
     "name": "stderr",
     "output_type": "stream",
     "text": [
      "2022-03-16 10:41:03.471583: I tensorflow/core/platform/cpu_feature_guard.cc:151] This TensorFlow binary is optimized with oneAPI Deep Neural Network Library (oneDNN) to use the following CPU instructions in performance-critical operations:  AVX2 AVX512F FMA\n",
      "To enable them in other operations, rebuild TensorFlow with the appropriate compiler flags.\n",
      "2022-03-16 10:41:04.504758: I tensorflow/core/common_runtime/gpu/gpu_device.cc:1525] Created device /job:localhost/replica:0/task:0/device:GPU:0 with 6642 MB memory:  -> device: 0, name: NVIDIA GeForce RTX 2080, pci bus id: 0000:17:00.0, compute capability: 7.5\n",
      "2022-03-16 10:41:04.505485: I tensorflow/core/common_runtime/gpu/gpu_device.cc:1525] Created device /job:localhost/replica:0/task:0/device:GPU:1 with 6659 MB memory:  -> device: 1, name: NVIDIA GeForce RTX 2080, pci bus id: 0000:b3:00.0, compute capability: 7.5\n"
     ]
    }
   ],
   "source": [
    "# all the caches are default to /tmp/tfhub_modules\n",
    "#preprocessor = hub.KerasLayer(\"https://tfhub.dev/tensorflow/bert_zh_preprocess/3\")  #https://tfhub.dev/tensorflow/bert_zh_preprocess/3\n",
    "preprocessor = hub.load(\"https://tfhub.dev/tensorflow/bert_zh_preprocess/3\")\n",
    "encoder = hub.KerasLayer(\"https://tfhub.dev/tensorflow/bert_zh_L-12_H-768_A-12/4\",trainable=True)  #https://tfhub.dev/tensorflow/bert_zh_L-12_H-768_A-12/4"
   ]
  },
  {
   "cell_type": "markdown",
   "id": "2d9b05c5-29a6-40c4-87bc-732e90145ff9",
   "metadata": {},
   "source": [
    "# 数据预处理\n",
    "### 数据:CLUE Fine-Grain NER   https://www.cluebenchmarks.com/introduce.html\n",
    "\n",
    "地址（address），ADD\n",
    "书名（book），BOOK\n",
    "公司（company），COM\n",
    "游戏（game），GA\n",
    "政府（goverment），GOV\n",
    "电影（movie），MOV\n",
    "姓名（name），NAME\n",
    "组织机构（organization），ORG\n",
    "职位（position），POS\n",
    "景点（scene）SCENE\n",
    "\n",
    "使用B I 标注方式"
   ]
  },
  {
   "cell_type": "code",
   "execution_count": 3,
   "id": "e7e88795-b20f-4576-9907-059b3c642e7d",
   "metadata": {},
   "outputs": [],
   "source": [
    "#{\"text\": \"浙商银行企业信贷部叶老桂博士则从另一个角度对五道门槛进行了解读。叶老桂认为，对目前国内商业银行而言，\", \"label\": {\"name\": {\"叶老桂\": [[9, 11]]}, \"company\": {\"浙商银行\": [[0, 3]]}}}\n",
    "sentences=[]\n",
    "labels=[]\n",
    "label_set=set()\n",
    "with open('train.json') as f:\n",
    "    for l in f.readlines():\n",
    "        data = json.loads(l)\n",
    "        text = data['text']\n",
    "        label = ['O' for _ in text]\n",
    "        for label_name,label_dict in data['label'].items():\n",
    "            label_set.add(label_name)\n",
    "            for _,pos_list in label_dict.items():\n",
    "                for s,e in pos_list:\n",
    "                    is_first = True\n",
    "                    for i in range(s,e+1):\n",
    "                        label[i] = label_name+'-'+ ('B' if is_first else \"I\")\n",
    "                        is_first=False\n",
    "        \n",
    "        sentences.append(text)\n",
    "        labels.append(label)"
   ]
  },
  {
   "cell_type": "code",
   "execution_count": 4,
   "id": "d5efc55b-1e90-4616-87d5-2b0524b08350",
   "metadata": {},
   "outputs": [
    {
     "name": "stdout",
     "output_type": "stream",
     "text": [
      "句子平均长度 37.38034983252698\n",
      "句子最大长度 50\n"
     ]
    }
   ],
   "source": [
    "print('句子平均长度',sum([len(label) for label in  labels])/len(labels))\n",
    "print('句子最大长度',max([len(label) for label in  labels]))"
   ]
  },
  {
   "cell_type": "code",
   "execution_count": 5,
   "id": "8ca6e10a-b482-43e3-8d20-ed28df6deeae",
   "metadata": {},
   "outputs": [],
   "source": [
    "#这里我们选取55作为模型最大长度\n",
    "MAX_LEN=55"
   ]
  },
  {
   "cell_type": "code",
   "execution_count": 6,
   "id": "3256dbbb-f92b-48be-9e1b-33b6dbbe4b28",
   "metadata": {},
   "outputs": [
    {
     "data": {
      "text/plain": [
       "{0: 'book-B',\n",
       " 1: 'book-I',\n",
       " 2: 'organization-B',\n",
       " 3: 'organization-I',\n",
       " 4: 'government-B',\n",
       " 5: 'government-I',\n",
       " 6: 'position-B',\n",
       " 7: 'position-I',\n",
       " 8: 'game-B',\n",
       " 9: 'game-I',\n",
       " 10: 'company-B',\n",
       " 11: 'company-I',\n",
       " 12: 'address-B',\n",
       " 13: 'address-I',\n",
       " 14: 'name-B',\n",
       " 15: 'name-I',\n",
       " 16: 'movie-B',\n",
       " 17: 'movie-I',\n",
       " 18: 'scene-B',\n",
       " 19: 'scene-I',\n",
       " 20: 'O'}"
      ]
     },
     "execution_count": 6,
     "metadata": {},
     "output_type": "execute_result"
    }
   ],
   "source": [
    "id_label_dict={}\n",
    "i=0\n",
    "for label_name in label_set:\n",
    "    id_label_dict[i]=label_name+'-B'\n",
    "    i+=1\n",
    "    id_label_dict[i]=label_name+'-I'\n",
    "    i+=1\n",
    "\n",
    "id_label_dict[i]='O'\n",
    "label_id_dict = {v:k for k,v in id_label_dict.items()}\n",
    "id_label_dict"
   ]
  },
  {
   "cell_type": "code",
   "execution_count": 7,
   "id": "4a59ccf9-1951-44be-897d-fcc738b94f9a",
   "metadata": {},
   "outputs": [],
   "source": [
    "def convert_labels_to_tensor(labels,max_len=MAX_LEN,label_id_dict=label_id_dict):\n",
    "    for label in labels:\n",
    "        pad = max_len-len(label)-1  # should add O at the start of sentence\n",
    "        label.insert(0,'O')\n",
    "        label.extend('O'*pad)\n",
    "        label = label[:MAX_LEN]\n",
    "        label[-1]='O'\n",
    "    labels_id = tf.constant([[label_id_dict[l] for l in label] for label in labels])\n",
    "    onehot_labels_id = tf.one_hot(labels_id,depth=21,axis=2)\n",
    "    return onehot_labels_id"
   ]
  },
  {
   "cell_type": "code",
   "execution_count": 8,
   "id": "e3417a40-88c3-4bca-9568-329fed3cd4e9",
   "metadata": {},
   "outputs": [],
   "source": [
    "onehot_label_tensor = convert_labels_to_tensor(labels)"
   ]
  },
  {
   "cell_type": "code",
   "execution_count": 9,
   "id": "bf9e5521-8d64-4e08-824d-2d865cf5d3a9",
   "metadata": {},
   "outputs": [],
   "source": [
    "#{\"text\": \"浙商银行企业信贷部叶老桂博士则从另一个角度对五道门槛进行了解读。叶老桂认为，对目前国内商业银行而言，\", \"label\": {\"name\": {\"叶老桂\": [[9, 11]]}, \"company\": {\"浙商银行\": [[0, 3]]}}}\n",
    "dev_sentences=[]\n",
    "dev_labels=[]\n",
    "with open('dev.json') as f:\n",
    "    for l in f.readlines():\n",
    "        data = json.loads(l)\n",
    "        text = data['text']\n",
    "        label = ['O' for _ in text]\n",
    "        for label_name,label_dict in data['label'].items():\n",
    "            for _,pos_list in label_dict.items():\n",
    "                for s,e in pos_list:\n",
    "                    is_first = True\n",
    "                    for i in range(s,e+1):\n",
    "                        label[i] = label_name+'-'+ ('B' if is_first else \"I\")\n",
    "                        is_first=False\n",
    "        \n",
    "        dev_sentences.append(text)\n",
    "        dev_labels.append(label)\n",
    "dev_onehot_label_tensor = convert_labels_to_tensor(dev_labels)"
   ]
  },
  {
   "cell_type": "code",
   "execution_count": 10,
   "id": "71e94a07-ade4-458a-b063-690fa7aee929",
   "metadata": {},
   "outputs": [],
   "source": [
    "l1 = hub.KerasLayer(preprocessor.tokenize)\n",
    "l2 = hub.KerasLayer(preprocessor.bert_pack_inputs,arguments=dict(seq_length=55))"
   ]
  },
  {
   "cell_type": "code",
   "execution_count": 11,
   "id": "e8ac1484-3663-49ca-94f6-361fae073981",
   "metadata": {},
   "outputs": [],
   "source": [
    "def build_classifier_model():\n",
    "    text_input = tf.keras.layers.Input(shape=(), dtype=tf.string, name='text')\n",
    "    encoder_inputs = l1(text_input)\n",
    "    encoder_inputs = l2([encoder_inputs])\n",
    "    outputs = encoder(encoder_inputs)\n",
    "    net = outputs['sequence_output']\n",
    "    net = tf.keras.layers.Dropout(0.1)(net)\n",
    "    net = tf.keras.layers.Dense(21, activation=None, name='classifier')(net)\n",
    "    return tf.keras.Model(text_input, net)"
   ]
  },
  {
   "cell_type": "code",
   "execution_count": 12,
   "id": "3a369a9e-bce3-4c0d-a0ee-8536c3b59c82",
   "metadata": {},
   "outputs": [
    {
     "name": "stdout",
     "output_type": "stream",
     "text": [
      "Model: \"model\"\n",
      "__________________________________________________________________________________________________\n",
      " Layer (type)                   Output Shape         Param #     Connected to                     \n",
      "==================================================================================================\n",
      " text (InputLayer)              [(None,)]            0           []                               \n",
      "                                                                                                  \n",
      " keras_layer_1 (KerasLayer)     (None, None, None)   0           ['text[0][0]']                   \n",
      "                                                                                                  \n",
      " keras_layer_2 (KerasLayer)     {'input_type_ids':   0           ['keras_layer_1[0][0]']          \n",
      "                                (None, 55),                                                       \n",
      "                                 'input_word_ids':                                                \n",
      "                                (None, 55),                                                       \n",
      "                                 'input_mask': (Non                                               \n",
      "                                e, 55)}                                                           \n",
      "                                                                                                  \n",
      " keras_layer (KerasLayer)       {'pooled_output': (  102267649   ['keras_layer_2[0][0]',          \n",
      "                                None, 768),                       'keras_layer_2[0][1]',          \n",
      "                                 'encoder_outputs':               'keras_layer_2[0][2]']          \n",
      "                                 [(None, 55, 768),                                                \n",
      "                                 (None, 55, 768),                                                 \n",
      "                                 (None, 55, 768),                                                 \n",
      "                                 (None, 55, 768),                                                 \n",
      "                                 (None, 55, 768),                                                 \n",
      "                                 (None, 55, 768),                                                 \n",
      "                                 (None, 55, 768),                                                 \n",
      "                                 (None, 55, 768),                                                 \n",
      "                                 (None, 55, 768),                                                 \n",
      "                                 (None, 55, 768),                                                 \n",
      "                                 (None, 55, 768),                                                 \n",
      "                                 (None, 55, 768)],                                                \n",
      "                                 'default': (None,                                                \n",
      "                                768),                                                             \n",
      "                                 'sequence_output':                                               \n",
      "                                 (None, 55, 768)}                                                 \n",
      "                                                                                                  \n",
      " dropout (Dropout)              (None, 55, 768)      0           ['keras_layer[0][14]']           \n",
      "                                                                                                  \n",
      " classifier (Dense)             (None, 55, 21)       16149       ['dropout[0][0]']                \n",
      "                                                                                                  \n",
      "==================================================================================================\n",
      "Total params: 102,283,798\n",
      "Trainable params: 102,283,797\n",
      "Non-trainable params: 1\n",
      "__________________________________________________________________________________________________\n"
     ]
    }
   ],
   "source": [
    "model = build_classifier_model()\n",
    "model.summary()"
   ]
  },
  {
   "cell_type": "code",
   "execution_count": 13,
   "id": "51dc6c50-6a3f-4a7f-ad7a-99881c5b813b",
   "metadata": {},
   "outputs": [],
   "source": [
    "loss = tf.keras.losses.CategoricalCrossentropy(from_logits=True)\n",
    "metrics = tf.keras.metrics.CategoricalAccuracy()\n",
    "optimizer = tf.keras.optimizers.Adam(2e-5)\n",
    "model.compile(optimizer=optimizer,\n",
    "                         loss=loss,\n",
    "                         metrics=metrics)"
   ]
  },
  {
   "cell_type": "code",
   "execution_count": 14,
   "id": "47cb9f7c-d600-47ba-a530-958cc4565ffc",
   "metadata": {},
   "outputs": [],
   "source": [
    "sentences_tensor = tf.convert_to_tensor(sentences)\n",
    "dev_sentences_tensor = tf.convert_to_tensor(dev_sentences)"
   ]
  },
  {
   "cell_type": "code",
   "execution_count": 16,
   "id": "75bfda14-2e19-40c1-9a63-ec32b178c90f",
   "metadata": {},
   "outputs": [
    {
     "name": "stdout",
     "output_type": "stream",
     "text": [
      "Epoch 1/3\n",
      "336/336 [==============================] - 112s 294ms/step - loss: 0.4405 - categorical_accuracy: 0.8853 - val_loss: 0.2669 - val_categorical_accuracy: 0.9212\n",
      "Epoch 2/3\n",
      "336/336 [==============================] - 98s 292ms/step - loss: 0.2449 - categorical_accuracy: 0.9240 - val_loss: 0.2372 - val_categorical_accuracy: 0.9245\n",
      "Epoch 3/3\n",
      "336/336 [==============================] - 99s 293ms/step - loss: 0.1886 - categorical_accuracy: 0.9383 - val_loss: 0.2169 - val_categorical_accuracy: 0.9329\n"
     ]
    },
    {
     "data": {
      "text/plain": [
       "<keras.callbacks.History at 0x7f8cc5da32e0>"
      ]
     },
     "execution_count": 16,
     "metadata": {},
     "output_type": "execute_result"
    }
   ],
   "source": [
    "model.fit(sentences_tensor,onehot_label_tensor,\n",
    "          validation_data=(dev_sentences_tensor,dev_onehot_label_tensor),epochs=3)"
   ]
  },
  {
   "cell_type": "code",
   "execution_count": 17,
   "id": "e2629b85-4e09-43b0-9b71-c74f7ffa9dbe",
   "metadata": {},
   "outputs": [
    {
     "name": "stdout",
     "output_type": "stream",
     "text": [
      "句子 生生不息CSOL生化狂潮让你填弹狂扫\n",
      "label ['O', 'O', 'O', 'O', 'O', 'game-B', 'game-I', 'game-I', 'game-I', 'O', 'O', 'O', 'O', 'O', 'O', 'O', 'O', 'O', 'O', 'O', 'O', 'O', 'O', 'O', 'O', 'O', 'O', 'O', 'O', 'O', 'O', 'O', 'O', 'O', 'O', 'O', 'O', 'O', 'O', 'O', 'O', 'O', 'O', 'O', 'O', 'O', 'O', 'O', 'O', 'O', 'O', 'O', 'O', 'O', 'O']\n"
     ]
    },
    {
     "data": {
      "text/plain": [
       "'O,O,O,O,O,game-B,game-I,game-I,game-I,game-I,O,O,O,O,O,O,O,O,O,O,O,O,O,O,O,O,O,O,O,O,O,O,O,O,O,O,O,O,O,O,O,O,O,O,O,O,O,O,O,O,O,O,O,O,O'"
      ]
     },
     "execution_count": 17,
     "metadata": {},
     "output_type": "execute_result"
    }
   ],
   "source": [
    "# 查看一下第i条数据的结果\n",
    "i=1\n",
    "output = model.predict([sentences[i]])[0]\n",
    "print('句子',sentences[i])\n",
    "print('label',labels[i])\n",
    "','.join([ id_label_dict[i] for i in  tf.argmax(output,axis=1).numpy()])"
   ]
  },
  {
   "cell_type": "code",
   "execution_count": null,
   "id": "205d2dc7-d94e-46e9-9622-d432bfa8b8dd",
   "metadata": {},
   "outputs": [],
   "source": []
  }
 ],
 "metadata": {
  "kernelspec": {
   "display_name": "Python 3 (ipykernel)",
   "language": "python",
   "name": "python3"
  },
  "language_info": {
   "codemirror_mode": {
    "name": "ipython",
    "version": 3
   },
   "file_extension": ".py",
   "mimetype": "text/x-python",
   "name": "python",
   "nbconvert_exporter": "python",
   "pygments_lexer": "ipython3",
   "version": "3.9.0"
  }
 },
 "nbformat": 4,
 "nbformat_minor": 5
}
