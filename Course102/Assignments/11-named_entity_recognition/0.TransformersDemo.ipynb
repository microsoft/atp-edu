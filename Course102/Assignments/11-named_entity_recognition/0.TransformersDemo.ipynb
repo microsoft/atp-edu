{
 "cells": [
  {
   "cell_type": "code",
   "execution_count": 1,
   "id": "0135f588-b99a-4fdf-8911-c22b391a21e5",
   "metadata": {},
   "outputs": [
    {
     "name": "stdout",
     "output_type": "stream",
     "text": [
      "use gpu1\n"
     ]
    }
   ],
   "source": [
    "import tensorflow as tf\n",
    "gpus = tf.config.list_physical_devices('GPU')\n",
    "if len(gpus)>1:\n",
    "    tf.config.set_visible_devices(gpus[1], 'GPU')\n",
    "    print('use gpu1')"
   ]
  },
  {
   "cell_type": "code",
   "execution_count": 3,
   "id": "aa2acb91-06ab-41a8-bc85-fed9252a60a2",
   "metadata": {},
   "outputs": [
    {
     "name": "stderr",
     "output_type": "stream",
     "text": [
      "Some layers from the model checkpoint at uer/roberta-base-finetuned-cluener2020-chinese were not used when initializing TFBertForTokenClassification: ['dropout_37']\n",
      "- This IS expected if you are initializing TFBertForTokenClassification from the checkpoint of a model trained on another task or with another architecture (e.g. initializing a BertForSequenceClassification model from a BertForPreTraining model).\n",
      "- This IS NOT expected if you are initializing TFBertForTokenClassification from the checkpoint of a model that you expect to be exactly identical (initializing a BertForSequenceClassification model from a BertForSequenceClassification model).\n",
      "All the layers of TFBertForTokenClassification were initialized from the model checkpoint at uer/roberta-base-finetuned-cluener2020-chinese.\n",
      "If your task is similar to the task the model of the checkpoint was trained on, you can already use TFBertForTokenClassification for predictions without further training.\n",
      "Asking to truncate to max_length but no maximum length is provided and the model has no predefined maximum length. Default to no truncation.\n"
     ]
    },
    {
     "data": {
      "text/plain": [
       "[{'entity': 'B-address',\n",
       "  'score': 0.6618994,\n",
       "  'index': 1,\n",
       "  'word': '江',\n",
       "  'start': 0,\n",
       "  'end': 1},\n",
       " {'entity': 'I-address',\n",
       "  'score': 0.55445594,\n",
       "  'index': 2,\n",
       "  'word': '苏',\n",
       "  'start': 1,\n",
       "  'end': 2},\n",
       " {'entity': 'B-company',\n",
       "  'score': 0.4227266,\n",
       "  'index': 7,\n",
       "  'word': '特',\n",
       "  'start': 6,\n",
       "  'end': 7},\n",
       " {'entity': 'I-company',\n",
       "  'score': 0.45469755,\n",
       "  'index': 8,\n",
       "  'word': '斯',\n",
       "  'start': 7,\n",
       "  'end': 8},\n",
       " {'entity': 'I-company',\n",
       "  'score': 0.5207834,\n",
       "  'index': 9,\n",
       "  'word': '拉',\n",
       "  'start': 8,\n",
       "  'end': 9}]"
      ]
     },
     "execution_count": 3,
     "metadata": {},
     "output_type": "execute_result"
    }
   ],
   "source": [
    "from transformers import TFAutoModelForTokenClassification,AutoTokenizer,pipeline\n",
    "tokenizer = AutoTokenizer.from_pretrained(\"uer/roberta-base-finetuned-cluener2020-chinese\")\n",
    "model = TFAutoModelForTokenClassification.from_pretrained(\"uer/roberta-base-finetuned-cluener2020-chinese\")\n",
    "ner = pipeline('ner', model=model, tokenizer=tokenizer)\n",
    "ner(\"江苏警方通报特斯拉冲进店铺\")"
   ]
  },
  {
   "cell_type": "code",
   "execution_count": 14,
   "id": "756b12e7-ba60-44d9-bbcd-c0898016e5dd",
   "metadata": {},
   "outputs": [],
   "source": [
    "output = model(tokenizer(\"江苏警方通报特斯拉冲进店铺\",return_tensors='tf'))"
   ]
  },
  {
   "cell_type": "code",
   "execution_count": 16,
   "id": "780ee1aa-a2bf-4bca-9505-5d202dc696e2",
   "metadata": {},
   "outputs": [
    {
     "data": {
      "text/plain": [
       "<tf.Tensor: shape=(1, 15), dtype=int64, numpy=array([[0, 1, 2, 0, 0, 0, 0, 5, 6, 6, 0, 0, 0, 0, 0]])>"
      ]
     },
     "execution_count": 16,
     "metadata": {},
     "output_type": "execute_result"
    }
   ],
   "source": [
    "tf.math.argmax(output[0],axis=2)"
   ]
  },
  {
   "cell_type": "code",
   "execution_count": 22,
   "id": "2f6a66ea-4c3b-4604-b087-8dc080ec26f0",
   "metadata": {},
   "outputs": [
    {
     "data": {
      "text/plain": [
       "BertConfig {\n",
       "  \"_name_or_path\": \"uer/roberta-base-finetuned-cluener2020-chinese\",\n",
       "  \"architectures\": [\n",
       "    \"BertForTokenClassification\"\n",
       "  ],\n",
       "  \"attention_probs_dropout_prob\": 0.1,\n",
       "  \"classifier_dropout\": null,\n",
       "  \"hidden_act\": \"gelu\",\n",
       "  \"hidden_dropout_prob\": 0.1,\n",
       "  \"hidden_size\": 768,\n",
       "  \"id2label\": {\n",
       "    \"0\": \"O\",\n",
       "    \"1\": \"B-address\",\n",
       "    \"2\": \"I-address\",\n",
       "    \"3\": \"B-book\",\n",
       "    \"4\": \"I-book\",\n",
       "    \"5\": \"B-company\",\n",
       "    \"6\": \"I-company\",\n",
       "    \"7\": \"B-game\",\n",
       "    \"8\": \"I-game\",\n",
       "    \"9\": \"B-government\",\n",
       "    \"10\": \"I-government\",\n",
       "    \"11\": \"B-movie\",\n",
       "    \"12\": \"I-movie\",\n",
       "    \"13\": \"B-name\",\n",
       "    \"14\": \"I-name\",\n",
       "    \"15\": \"B-organization\",\n",
       "    \"16\": \"I-organization\",\n",
       "    \"17\": \"B-position\",\n",
       "    \"18\": \"I-position\",\n",
       "    \"19\": \"B-scene\",\n",
       "    \"20\": \"I-scene\",\n",
       "    \"21\": \"S-address\",\n",
       "    \"22\": \"S-book\",\n",
       "    \"23\": \"S-company\",\n",
       "    \"24\": \"S-game\",\n",
       "    \"25\": \"S-government\",\n",
       "    \"26\": \"S-movie\",\n",
       "    \"27\": \"S-name\",\n",
       "    \"28\": \"S-organization\",\n",
       "    \"29\": \"S-position\",\n",
       "    \"30\": \"S-scene\",\n",
       "    \"31\": \"[PAD]\"\n",
       "  },\n",
       "  \"initializer_range\": 0.02,\n",
       "  \"intermediate_size\": 3072,\n",
       "  \"label2id\": {\n",
       "    \"B-address\": 1,\n",
       "    \"B-book\": 3,\n",
       "    \"B-company\": 5,\n",
       "    \"B-game\": 7,\n",
       "    \"B-government\": 9,\n",
       "    \"B-movie\": 11,\n",
       "    \"B-name\": 13,\n",
       "    \"B-organization\": 15,\n",
       "    \"B-position\": 17,\n",
       "    \"B-scene\": 19,\n",
       "    \"I-address\": 2,\n",
       "    \"I-book\": 4,\n",
       "    \"I-company\": 6,\n",
       "    \"I-game\": 8,\n",
       "    \"I-government\": 10,\n",
       "    \"I-movie\": 12,\n",
       "    \"I-name\": 14,\n",
       "    \"I-organization\": 16,\n",
       "    \"I-position\": 18,\n",
       "    \"I-scene\": 20,\n",
       "    \"O\": 0,\n",
       "    \"S-address\": 21,\n",
       "    \"S-book\": 22,\n",
       "    \"S-company\": 23,\n",
       "    \"S-game\": 24,\n",
       "    \"S-government\": 25,\n",
       "    \"S-movie\": 26,\n",
       "    \"S-name\": 27,\n",
       "    \"S-organization\": 28,\n",
       "    \"S-position\": 29,\n",
       "    \"S-scene\": 30,\n",
       "    \"[PAD]\": 31\n",
       "  },\n",
       "  \"layer_norm_eps\": 1e-12,\n",
       "  \"max_position_embeddings\": 512,\n",
       "  \"model_type\": \"bert\",\n",
       "  \"num_attention_heads\": 12,\n",
       "  \"num_hidden_layers\": 12,\n",
       "  \"pad_token_id\": 0,\n",
       "  \"position_embedding_type\": \"absolute\",\n",
       "  \"transformers_version\": \"4.17.0\",\n",
       "  \"type_vocab_size\": 2,\n",
       "  \"use_cache\": true,\n",
       "  \"vocab_size\": 21128\n",
       "}"
      ]
     },
     "execution_count": 22,
     "metadata": {},
     "output_type": "execute_result"
    }
   ],
   "source": [
    "model.config"
   ]
  },
  {
   "cell_type": "markdown",
   "id": "3dac30f6-c966-4161-ba7e-34727aef887a",
   "metadata": {},
   "source": [
    "## 在测试集上的准确率："
   ]
  },
  {
   "cell_type": "code",
   "execution_count": null,
   "id": "b08b2f8a-e39f-4f30-9d8a-a2889f383360",
   "metadata": {},
   "outputs": [],
   "source": []
  }
 ],
 "metadata": {
  "kernelspec": {
   "display_name": "Python 3 (ipykernel)",
   "language": "python",
   "name": "python3"
  },
  "language_info": {
   "codemirror_mode": {
    "name": "ipython",
    "version": 3
   },
   "file_extension": ".py",
   "mimetype": "text/x-python",
   "name": "python",
   "nbconvert_exporter": "python",
   "pygments_lexer": "ipython3",
   "version": "3.9.0"
  }
 },
 "nbformat": 4,
 "nbformat_minor": 5
}
