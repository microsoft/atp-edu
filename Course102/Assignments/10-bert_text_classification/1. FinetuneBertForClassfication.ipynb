{
 "cells": [
  {
   "cell_type": "code",
   "execution_count": 1,
   "id": "6598fb08-4911-40ef-8947-59e224855f3b",
   "metadata": {},
   "outputs": [],
   "source": [
    "import os\n",
    "import shutil\n",
    "import json\n",
    "import tensorflow as tf\n",
    "import tensorflow_hub as hub\n",
    "import tensorflow_text as text\n",
    "import numpy as np\n",
    "# from official.nlp import optimization  # to create AdamW optimizer\n",
    "\n",
    "RANDOM_SEED=68\n",
    "tf.random.set_seed(RANDOM_SEED)\n",
    "np.random.seed(RANDOM_SEED)"
   ]
  },
  {
   "cell_type": "markdown",
   "id": "7378a3bc-c8fd-4d96-95c6-84345627f85a",
   "metadata": {},
   "source": [
    "# 数据预处理\n",
    "1. TNEWS 今日头条中文新闻分类"
   ]
  },
  {
   "cell_type": "code",
   "execution_count": 2,
   "id": "c2a3d866-96dc-4c21-bb0c-41e71b03327a",
   "metadata": {},
   "outputs": [],
   "source": [
    "desc_label_dict = {\"news_story\":0,\n",
    "\"news_culture\":1,\n",
    "\"news_entertainment\":2,\n",
    "\"news_sports\":3,\n",
    "\"news_finance\":4,\n",
    "\"news_house\":5,\n",
    "\"news_car\":6,\n",
    "\"news_edu\":7,\n",
    "\"news_tech\":8,\n",
    "\"news_military\":9,\n",
    "\"news_travel\":10,\n",
    "\"news_world\":11,\n",
    "\"news_stock\":12,\n",
    "\"news_agriculture\":13,\n",
    "\"news_game\":14}\n",
    "label_desc_dict = {v:k for k,v in desc_label_dict.items()}\n",
    "CLASS_SIZE = len(desc_label_dict)"
   ]
  },
  {
   "cell_type": "code",
   "execution_count": 3,
   "id": "a843a46f-acda-48e6-8380-f9319a23e88e",
   "metadata": {},
   "outputs": [
    {
     "name": "stderr",
     "output_type": "stream",
     "text": [
      "2022-03-21 15:56:01.351535: I tensorflow/core/platform/cpu_feature_guard.cc:151] This TensorFlow binary is optimized with oneAPI Deep Neural Network Library (oneDNN) to use the following CPU instructions in performance-critical operations:  AVX2 AVX512F FMA\n",
      "To enable them in other operations, rebuild TensorFlow with the appropriate compiler flags.\n",
      "2022-03-21 15:56:02.378157: I tensorflow/core/common_runtime/gpu/gpu_device.cc:1525] Created device /job:localhost/replica:0/task:0/device:GPU:0 with 6642 MB memory:  -> device: 0, name: NVIDIA GeForce RTX 2080, pci bus id: 0000:17:00.0, compute capability: 7.5\n",
      "2022-03-21 15:56:02.378860: I tensorflow/core/common_runtime/gpu/gpu_device.cc:1525] Created device /job:localhost/replica:0/task:0/device:GPU:1 with 6659 MB memory:  -> device: 1, name: NVIDIA GeForce RTX 2080, pci bus id: 0000:b3:00.0, compute capability: 7.5\n"
     ]
    }
   ],
   "source": [
    "sentences=[]\n",
    "labels=[]\n",
    "with open('train.json') as f:\n",
    "    for l in f.readlines():\n",
    "        data = json.loads(l)\n",
    "        labels.append(desc_label_dict[data['label_desc']])\n",
    "        sentences.append(data['sentence'])\n",
    "sentences_tensor = tf.convert_to_tensor(sentences)\n",
    "labels_tensor = tf.one_hot(labels,len(desc_label_dict))"
   ]
  },
  {
   "cell_type": "code",
   "execution_count": 4,
   "id": "96db789e-d62d-4b71-9c01-80f714d1ba39",
   "metadata": {},
   "outputs": [
    {
     "name": "stdout",
     "output_type": "stream",
     "text": [
      "训练集平均长度 22.13124062968516\n",
      "训练集最大长度 145\n"
     ]
    }
   ],
   "source": [
    "print('训练集平均长度',sum([len(s) for s in sentences])/len(sentences))\n",
    "print('训练集最大长度',max([len(s) for s in sentences]))"
   ]
  },
  {
   "cell_type": "code",
   "execution_count": 5,
   "id": "fff4eb60-7172-47ad-b419-14edd1da07a5",
   "metadata": {},
   "outputs": [],
   "source": [
    "dev_sentences=[]\n",
    "dev_labels=[]\n",
    "with open('dev.json') as f:\n",
    "    for l in f.readlines():\n",
    "        data = json.loads(l)\n",
    "        dev_labels.append(desc_label_dict[data['label_desc']])\n",
    "        dev_sentences.append(data['sentence'])\n",
    "dev_sentences_tensor = tf.convert_to_tensor(dev_sentences)\n",
    "dev_labels_tensor = tf.one_hot(dev_labels,len(desc_label_dict))"
   ]
  },
  {
   "cell_type": "markdown",
   "id": "8a8bd8e5-f0fb-41e4-8d81-15763e9937e2",
   "metadata": {},
   "source": [
    "## 模型构建"
   ]
  },
  {
   "cell_type": "code",
   "execution_count": 6,
   "id": "327e2478-c26b-41ff-9165-fa21bffd94fe",
   "metadata": {},
   "outputs": [],
   "source": [
    "# all the caches are default to /tmp/tfhub_modules\n",
    "preprocessor = hub.KerasLayer(\"https://tfhub.dev/tensorflow/bert_zh_preprocess/3\")  #https://tfhub.dev/tensorflow/bert_zh_preprocess/3\n",
    "encoder = hub.KerasLayer(\"https://tfhub.dev/tensorflow/bert_zh_L-12_H-768_A-12/4\",trainable=True)  #https://tfhub.dev/tensorflow/bert_zh_L-12_H-768_A-12/4"
   ]
  },
  {
   "cell_type": "code",
   "execution_count": 7,
   "id": "7633b490-4916-43bb-8532-e264617f53b5",
   "metadata": {},
   "outputs": [],
   "source": [
    "def build_classifier_model(output_size=1,preprocessor=preprocessor,encoder=encoder):\n",
    "    text_input = tf.keras.layers.Input(shape=(), dtype=tf.string, name='text')\n",
    "    encoder_inputs = preprocessor(text_input)\n",
    "    outputs = encoder(encoder_inputs)\n",
    "    net = outputs['pooled_output']\n",
    "    net = tf.keras.layers.Dropout(0.6)(net)\n",
    "    net = tf.keras.layers.Dense(output_size, activation=None, name='classifier')(net)\n",
    "    return tf.keras.Model(text_input, net)"
   ]
  },
  {
   "cell_type": "code",
   "execution_count": 8,
   "id": "ff478579-7cf2-43e1-b54a-98a123fad2d8",
   "metadata": {},
   "outputs": [
    {
     "name": "stdout",
     "output_type": "stream",
     "text": [
      "Model: \"model\"\n",
      "__________________________________________________________________________________________________\n",
      " Layer (type)                   Output Shape         Param #     Connected to                     \n",
      "==================================================================================================\n",
      " text (InputLayer)              [(None,)]            0           []                               \n",
      "                                                                                                  \n",
      " keras_layer (KerasLayer)       {'input_word_ids':   0           ['text[0][0]']                   \n",
      "                                (None, 128),                                                      \n",
      "                                 'input_type_ids':                                                \n",
      "                                (None, 128),                                                      \n",
      "                                 'input_mask': (Non                                               \n",
      "                                e, 128)}                                                          \n",
      "                                                                                                  \n",
      " keras_layer_1 (KerasLayer)     {'pooled_output': (  102267649   ['keras_layer[0][0]',            \n",
      "                                None, 768),                       'keras_layer[0][1]',            \n",
      "                                 'encoder_outputs':               'keras_layer[0][2]']            \n",
      "                                 [(None, 128, 768),                                               \n",
      "                                 (None, 128, 768),                                                \n",
      "                                 (None, 128, 768),                                                \n",
      "                                 (None, 128, 768),                                                \n",
      "                                 (None, 128, 768),                                                \n",
      "                                 (None, 128, 768),                                                \n",
      "                                 (None, 128, 768),                                                \n",
      "                                 (None, 128, 768),                                                \n",
      "                                 (None, 128, 768),                                                \n",
      "                                 (None, 128, 768),                                                \n",
      "                                 (None, 128, 768),                                                \n",
      "                                 (None, 128, 768)],                                               \n",
      "                                 'sequence_output':                                               \n",
      "                                 (None, 128, 768),                                                \n",
      "                                 'default': (None,                                                \n",
      "                                768)}                                                             \n",
      "                                                                                                  \n",
      " dropout (Dropout)              (None, 768)          0           ['keras_layer_1[0][13]']         \n",
      "                                                                                                  \n",
      " classifier (Dense)             (None, 15)           11535       ['dropout[0][0]']                \n",
      "                                                                                                  \n",
      "==================================================================================================\n",
      "Total params: 102,279,184\n",
      "Trainable params: 102,279,183\n",
      "Non-trainable params: 1\n",
      "__________________________________________________________________________________________________\n"
     ]
    }
   ],
   "source": [
    "classifier_model = build_classifier_model(CLASS_SIZE)\n",
    "classifier_model.summary()"
   ]
  },
  {
   "cell_type": "code",
   "execution_count": 9,
   "id": "93424330-7120-4b6c-9f18-c88a2db69d41",
   "metadata": {},
   "outputs": [
    {
     "name": "stdout",
     "output_type": "stream",
     "text": [
      "tf.Tensor(\n",
      "[[0.06891412 0.07392806 0.00739026 0.0428463  0.01439426 0.04456672\n",
      "  0.06459893 0.1343775  0.05999255 0.1392031  0.10317845 0.09619764\n",
      "  0.00053205 0.14113835 0.00874169]], shape=(1, 15), dtype=float32)\n"
     ]
    }
   ],
   "source": [
    "text_test = ['上课时学生手机响个不停，老师一怒之下把手机摔了，家长拿发票让老师赔，大家怎么看待这种事？']  #教育类新闻\n",
    "bert_raw_result = classifier_model(tf.constant(text_test))\n",
    "print(tf.math.softmax(bert_raw_result))"
   ]
  },
  {
   "cell_type": "code",
   "execution_count": 10,
   "id": "c28db7ad-8070-44d8-afcf-b51932e6c18b",
   "metadata": {},
   "outputs": [],
   "source": [
    "loss = tf.keras.losses.CategoricalCrossentropy(from_logits=True)\n",
    "metrics = tf.keras.metrics.CategoricalAccuracy()"
   ]
  },
  {
   "cell_type": "code",
   "execution_count": 11,
   "id": "f55d2924-bd24-4db2-a481-7429b17a9a85",
   "metadata": {},
   "outputs": [],
   "source": [
    "optimizer = tf.keras.optimizers.Adam(2e-5)"
   ]
  },
  {
   "cell_type": "code",
   "execution_count": 12,
   "id": "80c757c0-a751-45b5-a163-420882176ef1",
   "metadata": {},
   "outputs": [],
   "source": [
    "classifier_model.compile(optimizer=optimizer,\n",
    "                         loss=loss,\n",
    "                         metrics=metrics)"
   ]
  },
  {
   "cell_type": "code",
   "execution_count": 13,
   "id": "cb81e0fc-f504-4edf-a360-7d6eb5d5574f",
   "metadata": {},
   "outputs": [
    {
     "name": "stdout",
     "output_type": "stream",
     "text": [
      "Epoch 1/10\n",
      "3335/3335 [==============================] - 961s 284ms/step - loss: 1.6014 - categorical_accuracy: 0.5012 - val_loss: 1.2716 - val_categorical_accuracy: 0.5533\n",
      "Epoch 2/10\n",
      "3335/3335 [==============================] - 950s 285ms/step - loss: 1.2722 - categorical_accuracy: 0.5682 - val_loss: 1.2721 - val_categorical_accuracy: 0.5549\n",
      "Epoch 3/10\n",
      "3335/3335 [==============================] - 950s 285ms/step - loss: 1.0558 - categorical_accuracy: 0.6321 - val_loss: 1.2821 - val_categorical_accuracy: 0.5597\n",
      "Epoch 4/10\n",
      "3335/3335 [==============================] - 950s 285ms/step - loss: 0.8294 - categorical_accuracy: 0.7057 - val_loss: 1.3765 - val_categorical_accuracy: 0.5680\n",
      "Epoch 5/10\n",
      "3335/3335 [==============================] - 951s 285ms/step - loss: 0.6056 - categorical_accuracy: 0.7872 - val_loss: 1.6055 - val_categorical_accuracy: 0.5625\n",
      "Epoch 6/10\n",
      "3335/3335 [==============================] - 951s 285ms/step - loss: 0.4431 - categorical_accuracy: 0.8446 - val_loss: 1.8374 - val_categorical_accuracy: 0.5548\n",
      "Epoch 7/10\n",
      "3335/3335 [==============================] - 952s 285ms/step - loss: 0.3418 - categorical_accuracy: 0.8837 - val_loss: 1.9492 - val_categorical_accuracy: 0.5591\n",
      "Epoch 8/10\n",
      "3335/3335 [==============================] - 952s 285ms/step - loss: 0.2747 - categorical_accuracy: 0.9080 - val_loss: 2.1521 - val_categorical_accuracy: 0.5530\n",
      "Epoch 9/10\n",
      "3335/3335 [==============================] - 951s 285ms/step - loss: 0.2316 - categorical_accuracy: 0.9233 - val_loss: 2.3408 - val_categorical_accuracy: 0.5545\n",
      "Epoch 10/10\n",
      "3335/3335 [==============================] - 951s 285ms/step - loss: 0.2067 - categorical_accuracy: 0.9312 - val_loss: 2.3313 - val_categorical_accuracy: 0.5537\n"
     ]
    }
   ],
   "source": [
    "history = classifier_model.fit(x=sentences_tensor,y=labels_tensor,\n",
    "                               validation_data=(dev_sentences_tensor,dev_labels_tensor),\n",
    "                               epochs=10,batch_size=16)"
   ]
  },
  {
   "cell_type": "code",
   "execution_count": 14,
   "id": "da4210be-e07b-426d-a424-275a30ee7921",
   "metadata": {},
   "outputs": [
    {
     "name": "stdout",
     "output_type": "stream",
     "text": [
      "tf.Tensor([7], shape=(1,), dtype=int64)\n"
     ]
    }
   ],
   "source": [
    "bert_raw_result = classifier_model(tf.constant(text_test))\n",
    "print(tf.math.argmax(tf.math.softmax(bert_raw_result),axis=1))"
   ]
  },
  {
   "cell_type": "code",
   "execution_count": 15,
   "id": "e6c9c72a-9d57-4a7a-b6f8-1b7b7f1d3bfa",
   "metadata": {},
   "outputs": [
    {
     "data": {
      "text/plain": [
       "'news_edu'"
      ]
     },
     "execution_count": 15,
     "metadata": {},
     "output_type": "execute_result"
    }
   ],
   "source": [
    "label_desc_dict[7]"
   ]
  },
  {
   "cell_type": "code",
   "execution_count": 16,
   "id": "4bf2d5e5-c969-4ac7-af5e-dca5d5d7cb2a",
   "metadata": {},
   "outputs": [
    {
     "name": "stdout",
     "output_type": "stream",
     "text": [
      "313/313 [==============================] - 73s 229ms/step - loss: 2.3313 - categorical_accuracy: 0.5537\n"
     ]
    },
    {
     "data": {
      "text/plain": [
       "[2.3313093185424805, 0.5536999702453613]"
      ]
     },
     "execution_count": 16,
     "metadata": {},
     "output_type": "execute_result"
    }
   ],
   "source": [
    "classifier_model.evaluate(dev_sentences_tensor,dev_labels_tensor)"
   ]
  },
  {
   "cell_type": "code",
   "execution_count": null,
   "id": "accaa5ee-ed34-49d8-9ebe-f99bb2450c93",
   "metadata": {},
   "outputs": [],
   "source": []
  }
 ],
 "metadata": {
  "kernelspec": {
   "display_name": "Python 3 (ipykernel)",
   "language": "python",
   "name": "python3"
  },
  "language_info": {
   "codemirror_mode": {
    "name": "ipython",
    "version": 3
   },
   "file_extension": ".py",
   "mimetype": "text/x-python",
   "name": "python",
   "nbconvert_exporter": "python",
   "pygments_lexer": "ipython3",
   "version": "3.9.0"
  }
 },
 "nbformat": 4,
 "nbformat_minor": 5
}
