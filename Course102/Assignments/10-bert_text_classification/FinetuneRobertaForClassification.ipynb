{
 "cells": [
  {
   "cell_type": "code",
   "execution_count": 1,
   "id": "e25df5af-9da1-4bb8-8399-d912e9167010",
   "metadata": {},
   "outputs": [],
   "source": [
    "import os\n",
    "import shutil\n",
    "import json\n",
    "import tensorflow as tf\n",
    "import tensorflow.keras as keras\n",
    "import tensorflow_hub as hub\n",
    "import tensorflow_text as text\n",
    "import numpy as np"
   ]
  },
  {
   "cell_type": "code",
   "execution_count": 2,
   "id": "28f5a6a2-ab0f-4c7b-9a42-7c2f4b1f0ef7",
   "metadata": {},
   "outputs": [
    {
     "name": "stdout",
     "output_type": "stream",
     "text": [
      "use gpu1\n"
     ]
    }
   ],
   "source": [
    "gpus = tf.config.list_physical_devices('GPU')\n",
    "if len(gpus)>1:\n",
    "    tf.config.set_visible_devices(gpus[1], 'GPU')\n",
    "    print('use gpu1')\n",
    "\n",
    "RANDOM_SEED=68\n",
    "tf.random.set_seed(RANDOM_SEED)\n",
    "np.random.seed(RANDOM_SEED)"
   ]
  },
  {
   "cell_type": "code",
   "execution_count": 3,
   "id": "37838c7d-cb71-4057-aa3e-a1483dac7592",
   "metadata": {},
   "outputs": [
    {
     "name": "stderr",
     "output_type": "stream",
     "text": [
      "2022-03-21 17:54:44.842249: I tensorflow/core/platform/cpu_feature_guard.cc:151] This TensorFlow binary is optimized with oneAPI Deep Neural Network Library (oneDNN) to use the following CPU instructions in performance-critical operations:  AVX2 AVX512F FMA\n",
      "To enable them in other operations, rebuild TensorFlow with the appropriate compiler flags.\n",
      "2022-03-21 17:54:45.459970: I tensorflow/core/common_runtime/gpu/gpu_device.cc:1525] Created device /job:localhost/replica:0/task:0/device:GPU:0 with 6390 MB memory:  -> device: 1, name: NVIDIA GeForce RTX 2080, pci bus id: 0000:b3:00.0, compute capability: 7.5\n",
      "Some layers from the model checkpoint at uer/roberta-base-finetuned-chinanews-chinese were not used when initializing TFBertModel: ['dropout_37', 'classifier']\n",
      "- This IS expected if you are initializing TFBertModel from the checkpoint of a model trained on another task or with another architecture (e.g. initializing a BertForSequenceClassification model from a BertForPreTraining model).\n",
      "- This IS NOT expected if you are initializing TFBertModel from the checkpoint of a model that you expect to be exactly identical (initializing a BertForSequenceClassification model from a BertForSequenceClassification model).\n",
      "All the layers of TFBertModel were initialized from the model checkpoint at uer/roberta-base-finetuned-chinanews-chinese.\n",
      "If your task is similar to the task the model of the checkpoint was trained on, you can already use TFBertModel for predictions without further training.\n"
     ]
    }
   ],
   "source": [
    "from transformers import TFAutoModel,AutoTokenizer,AutoConfig\n",
    "model = TFAutoModel.from_pretrained('uer/roberta-base-finetuned-chinanews-chinese')\n",
    "tokenizer = AutoTokenizer.from_pretrained('uer/roberta-base-finetuned-chinanews-chinese')"
   ]
  },
  {
   "cell_type": "code",
   "execution_count": 4,
   "id": "3de84f62-4e71-44bb-b8f8-0670e56c754e",
   "metadata": {},
   "outputs": [],
   "source": [
    "desc_label_dict = {\"news_story\":0,\n",
    "\"news_culture\":1,\n",
    "\"news_entertainment\":2,\n",
    "\"news_sports\":3,\n",
    "\"news_finance\":4,\n",
    "\"news_house\":5,\n",
    "\"news_car\":6,\n",
    "\"news_edu\":7,\n",
    "\"news_tech\":8,\n",
    "\"news_military\":9,\n",
    "\"news_travel\":10,\n",
    "\"news_world\":11,\n",
    "\"news_stock\":12,\n",
    "\"news_agriculture\":13,\n",
    "\"news_game\":14}\n",
    "label_desc_dict = {v:k for k,v in desc_label_dict.items()}\n",
    "CLASS_SIZE = len(desc_label_dict)"
   ]
  },
  {
   "cell_type": "code",
   "execution_count": 5,
   "id": "29a2a214-0b1b-4739-8bc6-3cdbd5ae13b5",
   "metadata": {},
   "outputs": [],
   "source": [
    "sentences=[]\n",
    "labels=[]\n",
    "with open('train.json') as f:\n",
    "    for l in f.readlines():\n",
    "        data = json.loads(l)\n",
    "        labels.append(desc_label_dict[data['label_desc']])\n",
    "        sentences.append(data['sentence'])\n",
    "# sentences_tensor = tf.convert_to_tensor(sentences)\n",
    "labels_tensor = tf.one_hot(labels,len(desc_label_dict))"
   ]
  },
  {
   "cell_type": "code",
   "execution_count": 6,
   "id": "19b9e620-1ca5-43a6-b150-df33f7d59dd9",
   "metadata": {},
   "outputs": [],
   "source": [
    "dev_sentences=[]\n",
    "dev_labels=[]\n",
    "with open('dev.json') as f:\n",
    "    for l in f.readlines():\n",
    "        data = json.loads(l)\n",
    "        dev_labels.append(desc_label_dict[data['label_desc']])\n",
    "        dev_sentences.append(data['sentence'])\n",
    "# dev_sentences_tensor = tf.convert_to_tensor(dev_sentences)\n",
    "dev_labels_tensor = tf.one_hot(dev_labels,len(desc_label_dict))"
   ]
  },
  {
   "cell_type": "code",
   "execution_count": 7,
   "id": "479f4a22-444a-4eda-b989-ce716612cdf1",
   "metadata": {},
   "outputs": [],
   "source": [
    "def build_classifier_model(output_size=15,encoder=model):\n",
    "    input_ids = keras.Input(shape=(None,),dtype=tf.int32)\n",
    "    token_type_ids = keras.Input(shape=(None,),dtype=tf.int32)\n",
    "    attention_mask = keras.Input(shape=(None,),dtype=tf.int32)\n",
    "    outputs = encoder(input_ids,attention_mask,token_type_ids)\n",
    "    net = outputs['pooler_output']\n",
    "    net = tf.keras.layers.Dropout(0.6)(net)\n",
    "    net = tf.keras.layers.Dense(output_size, activation=None, name='classifier')(net)\n",
    "    return tf.keras.Model([input_ids,attention_mask,token_type_ids], net)\n"
   ]
  },
  {
   "cell_type": "code",
   "execution_count": 8,
   "id": "f9f9adfe-5eda-43ad-a03a-944e76da763b",
   "metadata": {},
   "outputs": [],
   "source": [
    "cls_model = build_classifier_model()"
   ]
  },
  {
   "cell_type": "code",
   "execution_count": 9,
   "id": "df936bc6-bb0e-4205-b1ff-3d7ccc13e22d",
   "metadata": {},
   "outputs": [],
   "source": [
    "train_sentences = tokenizer(sentences, padding=True, truncation=True, max_length=50,return_tensors=\"tf\")\n",
    "train_input_ids = train_sentences['input_ids']\n",
    "train_token_type_ids = train_sentences['token_type_ids']\n",
    "train_attention_mask = train_sentences['attention_mask']\n",
    "\n",
    "dev_sentences = tokenizer(dev_sentences, padding=True, truncation=True, max_length=50,return_tensors=\"tf\")\n",
    "dev_input_ids = dev_sentences['input_ids']\n",
    "dev_token_type_ids = dev_sentences['token_type_ids']\n",
    "dev_attention_mask = dev_sentences['attention_mask']"
   ]
  },
  {
   "cell_type": "code",
   "execution_count": 10,
   "id": "40e5b58a-35f6-48a0-a127-61029a8aa710",
   "metadata": {},
   "outputs": [],
   "source": [
    "adam_opt = keras.optimizers.Adam(learning_rate=2e-5)\n",
    "bce = keras.losses.CategoricalCrossentropy(from_logits=True)\n",
    "cls_model.compile(loss=bce, optimizer=adam_opt,metrics=['accuracy'])"
   ]
  },
  {
   "cell_type": "code",
   "execution_count": 12,
   "id": "f58b0255-308c-4725-8680-7a12054b7308",
   "metadata": {},
   "outputs": [
    {
     "name": "stdout",
     "output_type": "stream",
     "text": [
      "Epoch 1/5\n",
      "3335/3335 [==============================] - 369s 108ms/step - loss: 1.5197 - accuracy: 0.5118 - val_loss: 1.2605 - val_accuracy: 0.5642\n",
      "Epoch 2/5\n",
      "3335/3335 [==============================] - 358s 107ms/step - loss: 1.1759 - accuracy: 0.5961 - val_loss: 1.2447 - val_accuracy: 0.5652\n",
      "Epoch 3/5\n",
      "3335/3335 [==============================] - 358s 107ms/step - loss: 0.9476 - accuracy: 0.6663 - val_loss: 1.2914 - val_accuracy: 0.5666\n",
      "Epoch 4/5\n",
      "3335/3335 [==============================] - 358s 107ms/step - loss: 0.7323 - accuracy: 0.7389 - val_loss: 1.3875 - val_accuracy: 0.5721\n",
      "Epoch 5/5\n",
      "3335/3335 [==============================] - 358s 107ms/step - loss: 0.5463 - accuracy: 0.8064 - val_loss: 1.6662 - val_accuracy: 0.5726\n"
     ]
    },
    {
     "data": {
      "text/plain": [
       "<keras.callbacks.History at 0x7f4b88044220>"
      ]
     },
     "execution_count": 12,
     "metadata": {},
     "output_type": "execute_result"
    }
   ],
   "source": [
    "cls_model.fit([train_input_ids,train_attention_mask,train_token_type_ids],labels_tensor,\n",
    "                  validation_data = ([dev_input_ids,dev_attention_mask,dev_token_type_ids],dev_labels_tensor),\n",
    "                  epochs=5,batch_size=16)"
   ]
  },
  {
   "cell_type": "code",
   "execution_count": 13,
   "id": "59278eb7-7e99-438f-a428-fbce15f0db21",
   "metadata": {},
   "outputs": [
    {
     "name": "stdout",
     "output_type": "stream",
     "text": [
      "Epoch 1/5\n",
      "3335/3335 [==============================] - 347s 104ms/step - loss: 0.4122 - accuracy: 0.8544 - val_loss: 1.7808 - val_accuracy: 0.5670\n",
      "Epoch 2/5\n",
      "3335/3335 [==============================] - 352s 106ms/step - loss: 0.3146 - accuracy: 0.8912 - val_loss: 1.9651 - val_accuracy: 0.5672\n",
      "Epoch 3/5\n",
      "3335/3335 [==============================] - 352s 105ms/step - loss: 0.2569 - accuracy: 0.9126 - val_loss: 2.0669 - val_accuracy: 0.5647\n",
      "Epoch 4/5\n",
      "3335/3335 [==============================] - 352s 105ms/step - loss: 0.2204 - accuracy: 0.9249 - val_loss: 2.1611 - val_accuracy: 0.5640\n",
      "Epoch 5/5\n",
      "3335/3335 [==============================] - 352s 105ms/step - loss: 0.1966 - accuracy: 0.9345 - val_loss: 2.3400 - val_accuracy: 0.5678\n"
     ]
    },
    {
     "data": {
      "text/plain": [
       "<keras.callbacks.History at 0x7f4ab4604a90>"
      ]
     },
     "execution_count": 13,
     "metadata": {},
     "output_type": "execute_result"
    }
   ],
   "source": [
    "cls_model.fit([train_input_ids,train_attention_mask,train_token_type_ids],labels_tensor,\n",
    "                  validation_data = ([dev_input_ids,dev_attention_mask,dev_token_type_ids],dev_labels_tensor),\n",
    "                  epochs=5,batch_size=16)"
   ]
  },
  {
   "cell_type": "code",
   "execution_count": null,
   "id": "aad26c43-81c4-43a0-a5f6-4bfa111f11a1",
   "metadata": {},
   "outputs": [],
   "source": []
  }
 ],
 "metadata": {
  "kernelspec": {
   "display_name": "Python 3 (ipykernel)",
   "language": "python",
   "name": "python3"
  },
  "language_info": {
   "codemirror_mode": {
    "name": "ipython",
    "version": 3
   },
   "file_extension": ".py",
   "mimetype": "text/x-python",
   "name": "python",
   "nbconvert_exporter": "python",
   "pygments_lexer": "ipython3",
   "version": "3.9.0"
  }
 },
 "nbformat": 4,
 "nbformat_minor": 5
}
