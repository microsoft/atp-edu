{
 "cells": [
  {
   "cell_type": "markdown",
   "id": "b1f31f38-5ab2-4f75-b083-7eceba21aa30",
   "metadata": {},
   "source": [
    "## 利用预训练模型进行分类\n",
    "1. 这里选取了huggingface上的一个预训练模型，包含其中类别，大陆政治，港澳政治，国际新闻，财经新闻，文化，娱乐，体育"
   ]
  },
  {
   "cell_type": "code",
   "execution_count": null,
   "id": "30bf2659-56c1-407e-a002-63d9581ec289",
   "metadata": {},
   "outputs": [],
   "source": [
    "from transformers import AutoModelForSequenceClassification,AutoTokenizer,pipeline\n",
    "model = AutoModelForSequenceClassification.from_pretrained('uer/roberta-base-finetuned-chinanews-chinese')\n",
    "tokenizer = AutoTokenizer.from_pretrained('uer/roberta-base-finetuned-chinanews-chinese')\n",
    "text_classification = pipeline('sentiment-analysis', model=model, tokenizer=tokenizer)\n",
    "text_classification(\"北京上个月召开了两会\")\n",
    "    [{'label': 'mainland China politics', 'score': 0.7211663722991943}]"
   ]
  },
  {
   "cell_type": "code",
   "execution_count": null,
   "id": "a319645b-2403-4cbf-b086-ebeac27989fe",
   "metadata": {},
   "outputs": [],
   "source": []
  }
 ],
 "metadata": {
  "kernelspec": {
   "display_name": "Python 3 (ipykernel)",
   "language": "python",
   "name": "python3"
  },
  "language_info": {
   "codemirror_mode": {
    "name": "ipython",
    "version": 3
   },
   "file_extension": ".py",
   "mimetype": "text/x-python",
   "name": "python",
   "nbconvert_exporter": "python",
   "pygments_lexer": "ipython3",
   "version": "3.9.0"
  }
 },
 "nbformat": 4,
 "nbformat_minor": 5
}
