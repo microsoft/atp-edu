{
 "cells": [
  {
   "cell_type": "code",
   "execution_count": 1,
   "id": "c166d28f-d5aa-4a42-bdca-7552a25573cb",
   "metadata": {},
   "outputs": [],
   "source": [
    "import numpy as np\n",
    "import faiss"
   ]
  },
  {
   "cell_type": "markdown",
   "id": "50d39df9-54db-4d0b-9667-6a0c34280f4a",
   "metadata": {},
   "source": [
    "## 场景\n",
    "1. 256维向量\n",
    "2. 10w条数据库\n",
    "3. 1000条待检索数据，检索top10结果"
   ]
  },
  {
   "cell_type": "code",
   "execution_count": 2,
   "id": "c4844a54-e76d-45b3-9495-c4572ebe30e6",
   "metadata": {},
   "outputs": [],
   "source": [
    "dimension = 256\n",
    "data_size = 100_000\n",
    "query_size = 1000\n",
    "np.random.seed(1234)\n",
    "retrieval_k = 10"
   ]
  },
  {
   "cell_type": "code",
   "execution_count": 3,
   "id": "881f40aa-d0eb-4612-941f-2fbd397aef55",
   "metadata": {},
   "outputs": [],
   "source": [
    "data_vec = np.random.random((data_size, dimension)).astype(np.float32)\n",
    "query_vec = np.random.random((query_size, dimension)).astype(np.float32)"
   ]
  },
  {
   "cell_type": "markdown",
   "id": "441b1ab0-d171-4a6a-a475-e3bbf848f43b",
   "metadata": {},
   "source": [
    "# Faiss  无优化\n",
    "100M 内存"
   ]
  },
  {
   "cell_type": "code",
   "execution_count": 4,
   "id": "26f2b033-be49-49b6-9135-bf9ebbcf8145",
   "metadata": {},
   "outputs": [
    {
     "name": "stdout",
     "output_type": "stream",
     "text": [
      "CPU times: user 40.2 ms, sys: 40.2 ms, total: 80.5 ms\n",
      "Wall time: 77.7 ms\n"
     ]
    }
   ],
   "source": [
    "%%time\n",
    "index = faiss.IndexFlatL2(dimension)\n",
    "index.add(data_vec)"
   ]
  },
  {
   "cell_type": "code",
   "execution_count": 22,
   "id": "0788de7d-25a5-465b-b1dd-9fcc1c45919f",
   "metadata": {},
   "outputs": [
    {
     "name": "stdout",
     "output_type": "stream",
     "text": [
      "CPU times: user 5.87 s, sys: 481 ms, total: 6.35 s\n",
      "Wall time: 325 ms\n"
     ]
    },
    {
     "data": {
      "text/plain": [
       "array([89650, 58430, 21260, 32710, 26650, 11909, 94663, 52705, 25054,\n",
       "       23948])"
      ]
     },
     "execution_count": 22,
     "metadata": {},
     "output_type": "execute_result"
    }
   ],
   "source": [
    "%%time\n",
    "distance, coresponding_index = index.search(query_vec, retrieval_k)\n",
    "coresponding_index[0]"
   ]
  },
  {
   "cell_type": "code",
   "execution_count": 23,
   "id": "bd1d1de3-c53b-46cf-9b73-9b7a1541006e",
   "metadata": {},
   "outputs": [
    {
     "data": {
      "text/plain": [
       "array([30.510437, 30.934174, 31.149734, 31.348007, 31.397034, 31.417542,\n",
       "       31.426514, 31.442612, 31.478806, 31.484848], dtype=float32)"
      ]
     },
     "execution_count": 23,
     "metadata": {},
     "output_type": "execute_result"
    }
   ],
   "source": [
    "distance[0]"
   ]
  },
  {
   "cell_type": "markdown",
   "id": "d010007f-e91c-4531-868a-dff6a602c127",
   "metadata": {},
   "source": [
    "## Faiss  IVFL2\n",
    "\n",
    "内存占用  约180MB"
   ]
  },
  {
   "cell_type": "code",
   "execution_count": 4,
   "id": "c6e0f739-49c5-4cd0-993e-73fe92c92fef",
   "metadata": {},
   "outputs": [
    {
     "name": "stdout",
     "output_type": "stream",
     "text": [
      "CPU times: user 3.68 s, sys: 230 ms, total: 3.91 s\n",
      "Wall time: 256 ms\n"
     ]
    }
   ],
   "source": [
    "%%time\n",
    "index = faiss.IndexFlatL2(dimension)\n",
    "index = faiss.IndexIVFFlat(index,dimension, 100) # 100 簇\n",
    "index.train(data_vec)\n",
    "index.add(data_vec)"
   ]
  },
  {
   "cell_type": "code",
   "execution_count": 52,
   "id": "4f768dd7-2f97-4fa5-8281-ed76ec1629d0",
   "metadata": {},
   "outputs": [
    {
     "name": "stdout",
     "output_type": "stream",
     "text": [
      "CPU times: user 412 ms, sys: 6.41 ms, total: 419 ms\n",
      "Wall time: 24.6 ms\n"
     ]
    },
    {
     "data": {
      "text/plain": [
       "array([75151, 63477, 47593, 14561, 32060, 78235, 30596, 63458, 82924,\n",
       "        7903])"
      ]
     },
     "execution_count": 52,
     "metadata": {},
     "output_type": "execute_result"
    }
   ],
   "source": [
    "%%time\n",
    "distance, coresponding_index = index.search(query_vec, retrieval_k)\n",
    "coresponding_index[0]"
   ]
  },
  {
   "cell_type": "code",
   "execution_count": 53,
   "id": "56f301f4-379d-4359-bc8b-07d56178f1f6",
   "metadata": {},
   "outputs": [
    {
     "data": {
      "text/plain": [
       "array([31.762985, 32.859394, 33.745956, 33.82788 , 34.095734, 34.126045,\n",
       "       34.21199 , 34.340767, 34.517437, 34.640167], dtype=float32)"
      ]
     },
     "execution_count": 53,
     "metadata": {},
     "output_type": "execute_result"
    }
   ],
   "source": [
    "distance[0]"
   ]
  },
  {
   "cell_type": "code",
   "execution_count": 54,
   "id": "a5ebb20d-46d7-425b-a07b-f7747019c639",
   "metadata": {},
   "outputs": [
    {
     "name": "stdout",
     "output_type": "stream",
     "text": [
      "CPU times: user 3.47 s, sys: 509 µs, total: 3.47 s\n",
      "Wall time: 180 ms\n"
     ]
    },
    {
     "data": {
      "text/plain": [
       "array([58430, 26650, 11909, 75151,  3693, 54551, 34531, 47054, 27491,\n",
       "       10108])"
      ]
     },
     "execution_count": 54,
     "metadata": {},
     "output_type": "execute_result"
    }
   ],
   "source": [
    "%%time\n",
    "index.nprobe=10\n",
    "distance, coresponding_index = index.search(query_vec, retrieval_k)\n",
    "coresponding_index[0]"
   ]
  },
  {
   "cell_type": "code",
   "execution_count": 56,
   "id": "b6e65a9a-3150-4f36-ac74-2a36ac9ad489",
   "metadata": {},
   "outputs": [
    {
     "name": "stdout",
     "output_type": "stream",
     "text": [
      "CPU times: user 8.26 s, sys: 0 ns, total: 8.26 s\n",
      "Wall time: 415 ms\n"
     ]
    },
    {
     "data": {
      "text/plain": [
       "array([58430, 21260, 32710, 26650, 11909, 94663, 23948, 75151, 62514,\n",
       "       93035])"
      ]
     },
     "execution_count": 56,
     "metadata": {},
     "output_type": "execute_result"
    }
   ],
   "source": [
    "%%time\n",
    "index.nprobe=30\n",
    "distance, coresponding_index = index.search(query_vec, retrieval_k)\n",
    "coresponding_index[0]"
   ]
  },
  {
   "cell_type": "code",
   "execution_count": 57,
   "id": "4a57ab9c-96a0-402d-b508-7e42523ecb3e",
   "metadata": {},
   "outputs": [
    {
     "name": "stdout",
     "output_type": "stream",
     "text": [
      "CPU times: user 26.2 s, sys: 23 ms, total: 26.3 s\n",
      "Wall time: 1.32 s\n"
     ]
    },
    {
     "data": {
      "text/plain": [
       "array([89650, 58430, 21260, 32710, 26650, 11909, 94663, 52705, 25054,\n",
       "       23948])"
      ]
     },
     "execution_count": 57,
     "metadata": {},
     "output_type": "execute_result"
    }
   ],
   "source": [
    "%%time\n",
    "index.nprobe=100\n",
    "distance, coresponding_index = index.search(query_vec, retrieval_k)\n",
    "coresponding_index[0]"
   ]
  },
  {
   "cell_type": "markdown",
   "id": "debde106-323a-440f-8097-a28bb9080343",
   "metadata": {},
   "source": [
    "## Faiss  IndexIVFPQ\n",
    "\n",
    "- 方案1 8个子量化器 约20M 内存\n",
    "- 方案2 128个子量化器 约40M 内存"
   ]
  },
  {
   "cell_type": "code",
   "execution_count": 5,
   "id": "d7f241d3-09a4-472b-9e12-875fed14d16e",
   "metadata": {},
   "outputs": [
    {
     "name": "stdout",
     "output_type": "stream",
     "text": [
      "CPU times: user 1min 8s, sys: 1.79 s, total: 1min 9s\n",
      "Wall time: 3.55 s\n"
     ]
    }
   ],
   "source": [
    "%%time\n",
    "m = 8                            # number of subquantizers\n",
    "quantizer = faiss.IndexFlatL2(dimension)  # this remains the same\n",
    "index = faiss.IndexIVFPQ(quantizer, dimension, 100, m, 8)\n",
    "                                    \n",
    "index.train(data_vec)\n",
    "index.add(data_vec)"
   ]
  },
  {
   "cell_type": "code",
   "execution_count": 6,
   "id": "76a62c18-c688-4b29-9789-76d931a57b21",
   "metadata": {},
   "outputs": [
    {
     "name": "stdout",
     "output_type": "stream",
     "text": [
      "CPU times: user 496 ms, sys: 5.73 ms, total: 502 ms\n",
      "Wall time: 27.6 ms\n"
     ]
    },
    {
     "data": {
      "text/plain": [
       "array([10108, 29174, 39208, 82176, 86363, 30938, 32425, 82501, 53797,\n",
       "        4353])"
      ]
     },
     "execution_count": 6,
     "metadata": {},
     "output_type": "execute_result"
    }
   ],
   "source": [
    "%%time\n",
    "index.nprobe=10\n",
    "distance, coresponding_index = index.search(query_vec, retrieval_k)\n",
    "coresponding_index[0]"
   ]
  },
  {
   "cell_type": "code",
   "execution_count": 4,
   "id": "c092dadf-1396-4ffb-acba-1741c8fb822f",
   "metadata": {},
   "outputs": [
    {
     "name": "stdout",
     "output_type": "stream",
     "text": [
      "CPU times: user 11min 17s, sys: 6.24 s, total: 11min 23s\n",
      "Wall time: 34.3 s\n"
     ]
    }
   ],
   "source": [
    "%%time\n",
    "m = 128                          # number of subquantizers\n",
    "quantizer = faiss.IndexFlatL2(dimension)  # this remains the same\n",
    "index = faiss.IndexIVFPQ(quantizer, dimension, 100, m, 8)\n",
    "                                    \n",
    "index.train(data_vec)\n",
    "index.add(data_vec)"
   ]
  },
  {
   "cell_type": "code",
   "execution_count": 5,
   "id": "bb035e17-9f80-430e-a1a2-b6044e050e48",
   "metadata": {},
   "outputs": [
    {
     "name": "stdout",
     "output_type": "stream",
     "text": [
      "CPU times: user 3.11 s, sys: 4.14 ms, total: 3.11 s\n",
      "Wall time: 159 ms\n"
     ]
    },
    {
     "data": {
      "text/plain": [
       "array([58430, 11909, 75151, 26650,  3693, 88897, 34531, 10108, 54551,\n",
       "       27491])"
      ]
     },
     "execution_count": 5,
     "metadata": {},
     "output_type": "execute_result"
    }
   ],
   "source": [
    "%%time\n",
    "index.nprobe=10\n",
    "distance, coresponding_index = index.search(query_vec, retrieval_k)\n",
    "coresponding_index[0]"
   ]
  },
  {
   "cell_type": "markdown",
   "id": "f904cdea-5e84-473d-93e6-e99541981ba3",
   "metadata": {},
   "source": [
    "## numpy\n",
    "这里只做100条数据的查询，十分之一的计算量\n",
    "\n",
    "numpy（这个方法）无法用到多线程，速度是faiss的100+倍\n",
    "即使不考虑多线程，Faiss速度也是numpy的5倍以上（numpy代码里有循环）"
   ]
  },
  {
   "cell_type": "code",
   "execution_count": 8,
   "id": "9c68faf9-d38f-4336-a1d6-f317ab26b884",
   "metadata": {},
   "outputs": [
    {
     "name": "stdout",
     "output_type": "stream",
     "text": [
      "CPU times: user 7.32 s, sys: 3.07 s, total: 10.4 s\n",
      "Wall time: 7.32 s\n"
     ]
    },
    {
     "data": {
      "text/plain": [
       "array([89650, 58430, 21260, 32710, 94663, 26650, 11909, 52705, 25054,\n",
       "       23948])"
      ]
     },
     "execution_count": 8,
     "metadata": {},
     "output_type": "execute_result"
    }
   ],
   "source": [
    "%%time\n",
    "first = True\n",
    "for query in query_vec[:100]:\n",
    "    ls_distances = np.sum(np.square(query-data_vec),axis=1)\n",
    "    search_index = np.argpartition(ls_distances,retrieval_k)\n",
    "    if first:\n",
    "        first =False\n",
    "        result = search_index\n",
    "        dis = ls_distances[result]\n",
    "result[:10]"
   ]
  },
  {
   "cell_type": "code",
   "execution_count": 9,
   "id": "3fcd42a4-e59c-4cc5-ae7e-bd7159a24b00",
   "metadata": {},
   "outputs": [
    {
     "data": {
      "text/plain": [
       "array([30.510485, 30.934149, 31.14967 , 31.347977, 31.426548, 31.39702 ,\n",
       "       31.417484, 31.442694, 31.47879 , 31.484783], dtype=float32)"
      ]
     },
     "execution_count": 9,
     "metadata": {},
     "output_type": "execute_result"
    }
   ],
   "source": [
    "dis[:10]"
   ]
  },
  {
   "cell_type": "markdown",
   "id": "a1bc16f3-bab3-4a24-9dc4-bf5bd105fc57",
   "metadata": {},
   "source": [
    "## numba\n",
    "\n",
    "numba 也是一种常用的python科学计算加速方式\n",
    "\n",
    "使用numba 加速"
   ]
  },
  {
   "cell_type": "code",
   "execution_count": 10,
   "id": "71915e91-01ad-4e15-8ae7-350d05df7a32",
   "metadata": {},
   "outputs": [],
   "source": [
    "from numba import njit as numba_njit"
   ]
  },
  {
   "cell_type": "code",
   "execution_count": 11,
   "id": "1655f84a-ab68-44b9-afad-1dd75f1d742b",
   "metadata": {},
   "outputs": [],
   "source": [
    "@numba_njit(parallel=True)\n",
    "def numba_func(q,d):\n",
    "    first = True\n",
    "    for query in q[:100]:\n",
    "        residual = query-d\n",
    "        normd_array = np.empty(residual.shape[0])\n",
    "        for i in range(residual.shape[0]):\n",
    "            nrm = np.linalg.norm(residual[i])\n",
    "            normd_array[i] = nrm\n",
    "        \n",
    "        search_index = np.argsort(normd_array)\n",
    "        if first:\n",
    "            first =False\n",
    "            result = search_index\n",
    "    return result[:10]"
   ]
  },
  {
   "cell_type": "code",
   "execution_count": 12,
   "id": "69b26d59-aab3-4d76-8eff-3674554c83ec",
   "metadata": {},
   "outputs": [
    {
     "name": "stderr",
     "output_type": "stream",
     "text": [
      "OMP: Info #276: omp_set_nested routine deprecated, please use omp_set_max_active_levels instead.\n"
     ]
    },
    {
     "name": "stdout",
     "output_type": "stream",
     "text": [
      "CPU times: user 2min 38s, sys: 12.7 s, total: 2min 51s\n",
      "Wall time: 10.5 s\n"
     ]
    },
    {
     "data": {
      "text/plain": [
       "array([89650, 58430, 21260, 32710, 26650, 11909, 94663, 52705, 25054,\n",
       "       23948])"
      ]
     },
     "execution_count": 12,
     "metadata": {},
     "output_type": "execute_result"
    }
   ],
   "source": [
    "%%time\n",
    "numba_func(query_vec,data_vec)"
   ]
  },
  {
   "cell_type": "code",
   "execution_count": 13,
   "id": "4847f347-de89-46f8-8cc1-b30e2a1fa15f",
   "metadata": {},
   "outputs": [],
   "source": [
    "@numba_njit(parallel=True)\n",
    "def numba_func2(q,d):\n",
    "    first = True\n",
    "    for query in q[:100]:\n",
    "        sum_of_square = np.sum(np.square(query-d),axis=1)\n",
    "        search_index = np.argsort(sum_of_square)\n",
    "        if first:\n",
    "            first =False\n",
    "            result = search_index\n",
    "            dis = sum_of_square[search_index]\n",
    "    return result[:10] , dis[:10]"
   ]
  },
  {
   "cell_type": "code",
   "execution_count": 14,
   "id": "34f980f4-9781-42aa-b16a-f028242c204f",
   "metadata": {},
   "outputs": [
    {
     "name": "stdout",
     "output_type": "stream",
     "text": [
      "CPU times: user 6min 25s, sys: 18.9 s, total: 6min 44s\n",
      "Wall time: 30 s\n"
     ]
    },
    {
     "data": {
      "text/plain": [
       "(array([89650, 58430, 21260, 32710, 26650, 11909, 94663, 52705, 25054,\n",
       "        23948]),\n",
       " array([30.510483, 30.934147, 31.149668, 31.347973, 31.397024, 31.417475,\n",
       "        31.426542, 31.442688, 31.478794, 31.484797], dtype=float32))"
      ]
     },
     "execution_count": 14,
     "metadata": {},
     "output_type": "execute_result"
    }
   ],
   "source": [
    "%%time\n",
    "numba_func2(query_vec,data_vec)"
   ]
  },
  {
   "cell_type": "markdown",
   "id": "0e897b6f-1790-4098-befa-593c612c1843",
   "metadata": {},
   "source": [
    "## Jax CPU"
   ]
  },
  {
   "cell_type": "code",
   "execution_count": 4,
   "id": "ea37e416-08aa-47dc-88ea-1918d7682fcf",
   "metadata": {},
   "outputs": [],
   "source": [
    "import os\n",
    "os.environ['CUDA_VISIBLE_DEVICES'] = ''\n",
    "import jax\n",
    "import jax.numpy as jnp\n",
    "import jax.lax as lax\n",
    "from jax import jit,vmap\n",
    "jax.config.update('jax_platform_name', 'cpu')"
   ]
  },
  {
   "cell_type": "code",
   "execution_count": 10,
   "id": "2171cf18-ec08-4ae6-9b32-fa5490e53f34",
   "metadata": {},
   "outputs": [
    {
     "name": "stderr",
     "output_type": "stream",
     "text": [
      "2022-07-08 16:50:23.651458: E external/org_tensorflow/tensorflow/stream_executor/cuda/cuda_driver.cc:265] failed call to cuInit: CUDA_ERROR_NO_DEVICE: no CUDA-capable device is detected\n"
     ]
    },
    {
     "name": "stdout",
     "output_type": "stream",
     "text": [
      "CPU times: user 42.1 s, sys: 16.3 s, total: 58.4 s\n",
      "Wall time: 48 s\n"
     ]
    },
    {
     "data": {
      "text/plain": [
       "DeviceArray([89650, 58430, 21260, 32710, 26650, 11909, 94663, 52705,\n",
       "             25054, 23948], dtype=int32)"
      ]
     },
     "execution_count": 5,
     "metadata": {},
     "output_type": "execute_result"
    }
   ],
   "source": [
    "%%time\n",
    "jnp.stack([jax.block_until_ready(lax.top_k(-jnp.sum((query-data_vec)**2,axis=1),retrieval_k))[1] for query in query_vec])[0]"
   ]
  },
  {
   "cell_type": "code",
   "execution_count": 5,
   "id": "87ff428a-80ad-47a3-a837-0c31c619f159",
   "metadata": {},
   "outputs": [],
   "source": [
    "@jit\n",
    "def jax_func(query_vec,data_vec):\n",
    "    search_index = jnp.stack([jax.block_until_ready(lax.top_k(-jnp.linalg.norm(query-data_vec,axis=1),retrieval_k))[1] for query in query_vec])\n",
    "    return search_index"
   ]
  },
  {
   "cell_type": "code",
   "execution_count": null,
   "id": "e961de14-a457-4c4a-b391-40a5043f1ad4",
   "metadata": {},
   "outputs": [],
   "source": [
    "%%time\n",
    "jax_func(data_vec,query_vec)[0,:]"
   ]
  },
  {
   "cell_type": "code",
   "execution_count": 10,
   "id": "a035b38e-61ed-4cec-b538-b4915ba0c8eb",
   "metadata": {},
   "outputs": [],
   "source": [
    "def get_topk(query):\n",
    "    return jax.block_until_ready(lax.top_k(-jnp.linalg.norm(query-data_vec,axis=1),retrieval_k))[1]\n",
    "\n",
    "@jit\n",
    "def vmap_get_topk(query_vec):\n",
    "    return vmap(get_topk)(query_vec)"
   ]
  },
  {
   "cell_type": "code",
   "execution_count": 18,
   "id": "ae7214b0-f9e1-47cd-badf-c6fcd6d3169d",
   "metadata": {},
   "outputs": [
    {
     "name": "stdout",
     "output_type": "stream",
     "text": [
      "CPU times: user 16.6 s, sys: 22.9 s, total: 39.6 s\n",
      "Wall time: 9.67 s\n"
     ]
    },
    {
     "data": {
      "text/plain": [
       "DeviceArray([[89650, 58430, 21260, ..., 52705, 25054, 23948],\n",
       "             [84304, 62062, 82023, ..., 62775, 50838, 51148],\n",
       "             [38158, 55219, 64005, ..., 98387, 48624, 40577],\n",
       "             ...,\n",
       "             [63914, 29266, 76601, ..., 61901, 95488, 28443],\n",
       "             [74164,  1430, 25750, ..., 10639, 64621, 55519],\n",
       "             [66406, 70162, 15525, ..., 20121, 53211,   991]],            dtype=int32)"
      ]
     },
     "execution_count": 16,
     "metadata": {},
     "output_type": "execute_result"
    }
   ],
   "source": [
    "%%time\n",
    "vmap_get_topk(query_vec[:500])"
   ]
  },
  {
   "cell_type": "code",
   "execution_count": null,
   "id": "7d2ade27-2515-49ca-9c93-7c31deb3457b",
   "metadata": {},
   "outputs": [],
   "source": []
  }
 ],
 "metadata": {
  "kernelspec": {
   "display_name": "Python 3 (ipykernel)",
   "language": "python",
   "name": "python3"
  },
  "language_info": {
   "codemirror_mode": {
    "name": "ipython",
    "version": 3
   },
   "file_extension": ".py",
   "mimetype": "text/x-python",
   "name": "python",
   "nbconvert_exporter": "python",
   "pygments_lexer": "ipython3",
   "version": "3.9.12"
  }
 },
 "nbformat": 4,
 "nbformat_minor": 5
}
